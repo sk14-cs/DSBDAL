{
 "cells": [
  {
   "cell_type": "code",
   "execution_count": 5,
   "id": "0c13ab88",
   "metadata": {},
   "outputs": [
    {
     "name": "stdout",
     "output_type": "stream",
     "text": [
      "aaaabbbbccccd\n"
     ]
    }
   ],
   "source": [
    "ip = \"a4b4c4d1\"\n",
    "\n",
    "op = \"\"\n",
    "\n",
    "i = 0\n",
    "while i < len(ip):\n",
    "    char = ip[i]\n",
    "    count = int(ip[i+1])\n",
    "    op += char * count\n",
    "    i += 2\n",
    "\n",
    "print(op)\n"
   ]
  },
  {
   "cell_type": "code",
   "execution_count": 6,
   "id": "6e0f8c9b",
   "metadata": {},
   "outputs": [
    {
     "name": "stdout",
     "output_type": "stream",
     "text": [
      "aaaabbbbccccd\n"
     ]
    }
   ],
   "source": [
    "ip=\"a4b4c4d1\"\n",
    "\n",
    "op = \"\"\n",
    "\n",
    "i = 0\n",
    "while i < len(ip):\n",
    "    char = ip[i]\n",
    "    count = int(ip[i+1])\n",
    "    op += char * count\n",
    "    i += 2\n",
    "\n",
    "print(op)\n"
   ]
  },
  {
   "cell_type": "code",
   "execution_count": 7,
   "id": "b73bebe9",
   "metadata": {},
   "outputs": [
    {
     "name": "stdout",
     "output_type": "stream",
     "text": [
      "The list frequency of elements is: {3: 2, 5: 1, 4: 2, 6: 2, 2: 1, 1: 1}\n"
     ]
    }
   ],
   "source": [
    "d = {}\n",
    "\n",
    "test_list = [[3,5,4],[6,2,4],[1,3,6]]\n",
    "\n",
    "for sublist in test_list:\n",
    "    for item in sublist:\n",
    "        d[item] = d.get(item, 0) + 1\n",
    "        \n",
    "print(\"The list frequency of elements is:\", d)"
   ]
  },
  {
   "cell_type": "code",
   "execution_count": 8,
   "id": "afa6cf2e",
   "metadata": {},
   "outputs": [
    {
     "name": "stdout",
     "output_type": "stream",
     "text": [
      "Common elements: [3, 4, 5]\n"
     ]
    }
   ],
   "source": [
    "list1 = [1, 2, 3, 4, 5]\n",
    "list2 = [4, 5, 3, 7, 8]\n",
    "\n",
    "common_elements = list(set(list1) & set(list2))\n",
    "\n",
    "print(\"Common elements:\", common_elements)"
   ]
  },
  {
   "cell_type": "code",
   "execution_count": 9,
   "id": "b85a3a85",
   "metadata": {},
   "outputs": [
    {
     "name": "stdout",
     "output_type": "stream",
     "text": [
      "First letters: ['S', 'M', 'R']\n"
     ]
    }
   ],
   "source": [
    "words = ['Sohan', 'Mohan', 'Rohan']\n",
    "\n",
    "first_letters = [word[0] for word in words]\n",
    "\n",
    "print(\"First letters:\", first_letters)"
   ]
  },
  {
   "cell_type": "code",
   "execution_count": 10,
   "id": "d578a4a3",
   "metadata": {},
   "outputs": [
    {
     "name": "stdout",
     "output_type": "stream",
     "text": [
      "Duplicate terms: ['python']\n"
     ]
    }
   ],
   "source": [
    "list_items = ['pandas', 'numpy', 'flask', 'python', 'python']\n",
    "\n",
    "seen = set()\n",
    "duplicates = set()\n",
    "\n",
    "for item in list_items:\n",
    "    if item in seen:\n",
    "        duplicates.add(item)\n",
    "    else:\n",
    "        seen.add(item)\n",
    "\n",
    "print(\"Duplicate terms:\", list(duplicates))"
   ]
  },
  {
   "cell_type": "code",
   "execution_count": 11,
   "id": "8b8cc2ea",
   "metadata": {},
   "outputs": [
    {
     "name": "stdout",
     "output_type": "stream",
     "text": [
      "Count for string is 14\n"
     ]
    }
   ],
   "source": [
    "my_string = \"santosh kawade\"\n",
    "\n",
    "string_length = len(my_string)\n",
    "\n",
    "print(f\"Count for string is {string_length}\")"
   ]
  },
  {
   "cell_type": "code",
   "execution_count": 12,
   "id": "9b003b4d",
   "metadata": {},
   "outputs": [
    {
     "name": "stdout",
     "output_type": "stream",
     "text": [
      "Count for list is 9\n"
     ]
    }
   ],
   "source": [
    "lis = [1, 2, 5, 3, 4, 8, 9, \"lis\", \"a\"]\n",
    "list_length = len(lis)\n",
    "print(f\"Count for list is {list_length}\")"
   ]
  },
  {
   "cell_type": "code",
   "execution_count": null,
   "id": "50462a2c",
   "metadata": {},
   "outputs": [],
   "source": []
  }
 ],
 "metadata": {
  "kernelspec": {
   "display_name": "Python 3 (ipykernel)",
   "language": "python",
   "name": "python3"
  },
  "language_info": {
   "codemirror_mode": {
    "name": "ipython",
    "version": 3
   },
   "file_extension": ".py",
   "mimetype": "text/x-python",
   "name": "python",
   "nbconvert_exporter": "python",
   "pygments_lexer": "ipython3",
   "version": "3.11.4"
  }
 },
 "nbformat": 4,
 "nbformat_minor": 5
}
