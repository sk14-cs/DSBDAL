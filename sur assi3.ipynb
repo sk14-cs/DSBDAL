{
 "cells": [
  {
   "cell_type": "code",
   "execution_count": null,
   "id": "da4e232f",
   "metadata": {},
   "outputs": [],
   "source": [
    "Aim= To learn about descriptive statistics of a data set."
   ]
  },
  {
   "cell_type": "code",
   "execution_count": 1,
   "id": "6d34cffa",
   "metadata": {},
   "outputs": [],
   "source": [
    "import pandas as pd"
   ]
  },
  {
   "cell_type": "code",
   "execution_count": 2,
   "id": "d45a2e03",
   "metadata": {},
   "outputs": [],
   "source": [
    "import numpy as np"
   ]
  },
  {
   "cell_type": "code",
   "execution_count": 4,
   "id": "7abba26e",
   "metadata": {},
   "outputs": [],
   "source": [
    "df=pd.read_csv(\"C:\\\\Users\\\\Welcome\\\\Documents\\\\customerinfo.csv\")"
   ]
  },
  {
   "cell_type": "code",
   "execution_count": 5,
   "id": "9686cc8d",
   "metadata": {},
   "outputs": [
    {
     "data": {
      "text/html": [
       "<div>\n",
       "<style scoped>\n",
       "    .dataframe tbody tr th:only-of-type {\n",
       "        vertical-align: middle;\n",
       "    }\n",
       "\n",
       "    .dataframe tbody tr th {\n",
       "        vertical-align: top;\n",
       "    }\n",
       "\n",
       "    .dataframe thead th {\n",
       "        text-align: right;\n",
       "    }\n",
       "</style>\n",
       "<table border=\"1\" class=\"dataframe\">\n",
       "  <thead>\n",
       "    <tr style=\"text-align: right;\">\n",
       "      <th></th>\n",
       "      <th>SR NO</th>\n",
       "      <th>CUSTOMER ID</th>\n",
       "      <th>GENDER</th>\n",
       "      <th>AGE</th>\n",
       "      <th>ANNUAL INCOME</th>\n",
       "      <th>SPENDING SCORE</th>\n",
       "    </tr>\n",
       "  </thead>\n",
       "  <tbody>\n",
       "    <tr>\n",
       "      <th>0</th>\n",
       "      <td>1</td>\n",
       "      <td>582</td>\n",
       "      <td>1</td>\n",
       "      <td>47</td>\n",
       "      <td>29529</td>\n",
       "      <td>69</td>\n",
       "    </tr>\n",
       "    <tr>\n",
       "      <th>1</th>\n",
       "      <td>2</td>\n",
       "      <td>748</td>\n",
       "      <td>1</td>\n",
       "      <td>26</td>\n",
       "      <td>34771</td>\n",
       "      <td>56</td>\n",
       "    </tr>\n",
       "    <tr>\n",
       "      <th>2</th>\n",
       "      <td>3</td>\n",
       "      <td>191</td>\n",
       "      <td>2</td>\n",
       "      <td>37</td>\n",
       "      <td>44838</td>\n",
       "      <td>96</td>\n",
       "    </tr>\n",
       "    <tr>\n",
       "      <th>3</th>\n",
       "      <td>4</td>\n",
       "      <td>272</td>\n",
       "      <td>2</td>\n",
       "      <td>34</td>\n",
       "      <td>22169</td>\n",
       "      <td>65</td>\n",
       "    </tr>\n",
       "    <tr>\n",
       "      <th>4</th>\n",
       "      <td>5</td>\n",
       "      <td>809</td>\n",
       "      <td>1</td>\n",
       "      <td>41</td>\n",
       "      <td>26460</td>\n",
       "      <td>12</td>\n",
       "    </tr>\n",
       "    <tr>\n",
       "      <th>...</th>\n",
       "      <td>...</td>\n",
       "      <td>...</td>\n",
       "      <td>...</td>\n",
       "      <td>...</td>\n",
       "      <td>...</td>\n",
       "      <td>...</td>\n",
       "    </tr>\n",
       "    <tr>\n",
       "      <th>195</th>\n",
       "      <td>196</td>\n",
       "      <td>830</td>\n",
       "      <td>1</td>\n",
       "      <td>25</td>\n",
       "      <td>39716</td>\n",
       "      <td>23</td>\n",
       "    </tr>\n",
       "    <tr>\n",
       "      <th>196</th>\n",
       "      <td>197</td>\n",
       "      <td>127</td>\n",
       "      <td>1</td>\n",
       "      <td>42</td>\n",
       "      <td>20019</td>\n",
       "      <td>5</td>\n",
       "    </tr>\n",
       "    <tr>\n",
       "      <th>197</th>\n",
       "      <td>198</td>\n",
       "      <td>459</td>\n",
       "      <td>1</td>\n",
       "      <td>37</td>\n",
       "      <td>43772</td>\n",
       "      <td>78</td>\n",
       "    </tr>\n",
       "    <tr>\n",
       "      <th>198</th>\n",
       "      <td>199</td>\n",
       "      <td>744</td>\n",
       "      <td>2</td>\n",
       "      <td>39</td>\n",
       "      <td>29604</td>\n",
       "      <td>97</td>\n",
       "    </tr>\n",
       "    <tr>\n",
       "      <th>199</th>\n",
       "      <td>200</td>\n",
       "      <td>561</td>\n",
       "      <td>1</td>\n",
       "      <td>29</td>\n",
       "      <td>22752</td>\n",
       "      <td>39</td>\n",
       "    </tr>\n",
       "  </tbody>\n",
       "</table>\n",
       "<p>200 rows × 6 columns</p>\n",
       "</div>"
      ],
      "text/plain": [
       "     SR NO  CUSTOMER ID  GENDER  AGE  ANNUAL INCOME  SPENDING SCORE\n",
       "0        1          582       1   47          29529              69\n",
       "1        2          748       1   26          34771              56\n",
       "2        3          191       2   37          44838              96\n",
       "3        4          272       2   34          22169              65\n",
       "4        5          809       1   41          26460              12\n",
       "..     ...          ...     ...  ...            ...             ...\n",
       "195    196          830       1   25          39716              23\n",
       "196    197          127       1   42          20019               5\n",
       "197    198          459       1   37          43772              78\n",
       "198    199          744       2   39          29604              97\n",
       "199    200          561       1   29          22752              39\n",
       "\n",
       "[200 rows x 6 columns]"
      ]
     },
     "execution_count": 5,
     "metadata": {},
     "output_type": "execute_result"
    }
   ],
   "source": [
    "df"
   ]
  },
  {
   "cell_type": "code",
   "execution_count": 6,
   "id": "07c755a8",
   "metadata": {},
   "outputs": [
    {
     "data": {
      "text/plain": [
       "SR NO               100.500\n",
       "CUSTOMER ID         549.600\n",
       "GENDER                1.385\n",
       "AGE                  37.635\n",
       "ANNUAL INCOME     36009.770\n",
       "SPENDING SCORE       50.405\n",
       "dtype: float64"
      ]
     },
     "execution_count": 6,
     "metadata": {},
     "output_type": "execute_result"
    }
   ],
   "source": [
    "df.mean() "
   ]
  },
  {
   "cell_type": "code",
   "execution_count": 8,
   "id": "ffcfb05a",
   "metadata": {},
   "outputs": [
    {
     "data": {
      "text/plain": [
       "37.635"
      ]
     },
     "execution_count": 8,
     "metadata": {},
     "output_type": "execute_result"
    }
   ],
   "source": [
    "df.loc[:,'AGE'].mean()"
   ]
  },
  {
   "cell_type": "code",
   "execution_count": 9,
   "id": "c4a14dd1",
   "metadata": {},
   "outputs": [
    {
     "data": {
      "text/html": [
       "<div>\n",
       "<style scoped>\n",
       "    .dataframe tbody tr th:only-of-type {\n",
       "        vertical-align: middle;\n",
       "    }\n",
       "\n",
       "    .dataframe tbody tr th {\n",
       "        vertical-align: top;\n",
       "    }\n",
       "\n",
       "    .dataframe thead th {\n",
       "        text-align: right;\n",
       "    }\n",
       "</style>\n",
       "<table border=\"1\" class=\"dataframe\">\n",
       "  <thead>\n",
       "    <tr style=\"text-align: right;\">\n",
       "      <th></th>\n",
       "      <th>SR NO</th>\n",
       "      <th>CUSTOMER ID</th>\n",
       "      <th>GENDER</th>\n",
       "      <th>AGE</th>\n",
       "      <th>ANNUAL INCOME</th>\n",
       "      <th>SPENDING SCORE</th>\n",
       "    </tr>\n",
       "  </thead>\n",
       "  <tbody>\n",
       "    <tr>\n",
       "      <th>0</th>\n",
       "      <td>1</td>\n",
       "      <td>582</td>\n",
       "      <td>1</td>\n",
       "      <td>47</td>\n",
       "      <td>29529</td>\n",
       "      <td>69</td>\n",
       "    </tr>\n",
       "    <tr>\n",
       "      <th>1</th>\n",
       "      <td>2</td>\n",
       "      <td>748</td>\n",
       "      <td>1</td>\n",
       "      <td>26</td>\n",
       "      <td>34771</td>\n",
       "      <td>56</td>\n",
       "    </tr>\n",
       "    <tr>\n",
       "      <th>2</th>\n",
       "      <td>3</td>\n",
       "      <td>191</td>\n",
       "      <td>2</td>\n",
       "      <td>37</td>\n",
       "      <td>44838</td>\n",
       "      <td>96</td>\n",
       "    </tr>\n",
       "    <tr>\n",
       "      <th>3</th>\n",
       "      <td>4</td>\n",
       "      <td>272</td>\n",
       "      <td>2</td>\n",
       "      <td>34</td>\n",
       "      <td>22169</td>\n",
       "      <td>65</td>\n",
       "    </tr>\n",
       "    <tr>\n",
       "      <th>4</th>\n",
       "      <td>5</td>\n",
       "      <td>809</td>\n",
       "      <td>1</td>\n",
       "      <td>41</td>\n",
       "      <td>26460</td>\n",
       "      <td>12</td>\n",
       "    </tr>\n",
       "    <tr>\n",
       "      <th>...</th>\n",
       "      <td>...</td>\n",
       "      <td>...</td>\n",
       "      <td>...</td>\n",
       "      <td>...</td>\n",
       "      <td>...</td>\n",
       "      <td>...</td>\n",
       "    </tr>\n",
       "    <tr>\n",
       "      <th>195</th>\n",
       "      <td>196</td>\n",
       "      <td>830</td>\n",
       "      <td>1</td>\n",
       "      <td>25</td>\n",
       "      <td>39716</td>\n",
       "      <td>23</td>\n",
       "    </tr>\n",
       "    <tr>\n",
       "      <th>196</th>\n",
       "      <td>197</td>\n",
       "      <td>127</td>\n",
       "      <td>1</td>\n",
       "      <td>42</td>\n",
       "      <td>20019</td>\n",
       "      <td>5</td>\n",
       "    </tr>\n",
       "    <tr>\n",
       "      <th>197</th>\n",
       "      <td>198</td>\n",
       "      <td>459</td>\n",
       "      <td>1</td>\n",
       "      <td>37</td>\n",
       "      <td>43772</td>\n",
       "      <td>78</td>\n",
       "    </tr>\n",
       "    <tr>\n",
       "      <th>198</th>\n",
       "      <td>199</td>\n",
       "      <td>744</td>\n",
       "      <td>2</td>\n",
       "      <td>39</td>\n",
       "      <td>29604</td>\n",
       "      <td>97</td>\n",
       "    </tr>\n",
       "    <tr>\n",
       "      <th>199</th>\n",
       "      <td>200</td>\n",
       "      <td>561</td>\n",
       "      <td>1</td>\n",
       "      <td>29</td>\n",
       "      <td>22752</td>\n",
       "      <td>39</td>\n",
       "    </tr>\n",
       "  </tbody>\n",
       "</table>\n",
       "<p>200 rows × 6 columns</p>\n",
       "</div>"
      ],
      "text/plain": [
       "     SR NO  CUSTOMER ID  GENDER  AGE  ANNUAL INCOME  SPENDING SCORE\n",
       "0        1          582       1   47          29529              69\n",
       "1        2          748       1   26          34771              56\n",
       "2        3          191       2   37          44838              96\n",
       "3        4          272       2   34          22169              65\n",
       "4        5          809       1   41          26460              12\n",
       "..     ...          ...     ...  ...            ...             ...\n",
       "195    196          830       1   25          39716              23\n",
       "196    197          127       1   42          20019               5\n",
       "197    198          459       1   37          43772              78\n",
       "198    199          744       2   39          29604              97\n",
       "199    200          561       1   29          22752              39\n",
       "\n",
       "[200 rows x 6 columns]"
      ]
     },
     "execution_count": 9,
     "metadata": {},
     "output_type": "execute_result"
    }
   ],
   "source": [
    "df"
   ]
  },
  {
   "cell_type": "code",
   "execution_count": 10,
   "id": "1a3fbde6",
   "metadata": {},
   "outputs": [],
   "source": [
    "df=pd.read_csv(\"C:\\\\Users\\\\Welcome\\\\Documents\\\\customerinfo.csv\")"
   ]
  },
  {
   "cell_type": "code",
   "execution_count": 11,
   "id": "ec49423c",
   "metadata": {},
   "outputs": [
    {
     "data": {
      "text/html": [
       "<div>\n",
       "<style scoped>\n",
       "    .dataframe tbody tr th:only-of-type {\n",
       "        vertical-align: middle;\n",
       "    }\n",
       "\n",
       "    .dataframe tbody tr th {\n",
       "        vertical-align: top;\n",
       "    }\n",
       "\n",
       "    .dataframe thead th {\n",
       "        text-align: right;\n",
       "    }\n",
       "</style>\n",
       "<table border=\"1\" class=\"dataframe\">\n",
       "  <thead>\n",
       "    <tr style=\"text-align: right;\">\n",
       "      <th></th>\n",
       "      <th>SR NO</th>\n",
       "      <th>CUSTOMER ID</th>\n",
       "      <th>GENDER</th>\n",
       "      <th>AGE</th>\n",
       "      <th>ANNUAL INCOME</th>\n",
       "      <th>SPENDING SCORE</th>\n",
       "    </tr>\n",
       "  </thead>\n",
       "  <tbody>\n",
       "    <tr>\n",
       "      <th>0</th>\n",
       "      <td>1</td>\n",
       "      <td>582</td>\n",
       "      <td>male</td>\n",
       "      <td>47</td>\n",
       "      <td>29529</td>\n",
       "      <td>69</td>\n",
       "    </tr>\n",
       "    <tr>\n",
       "      <th>1</th>\n",
       "      <td>2</td>\n",
       "      <td>748</td>\n",
       "      <td>male</td>\n",
       "      <td>26</td>\n",
       "      <td>34771</td>\n",
       "      <td>56</td>\n",
       "    </tr>\n",
       "    <tr>\n",
       "      <th>2</th>\n",
       "      <td>3</td>\n",
       "      <td>191</td>\n",
       "      <td>female</td>\n",
       "      <td>37</td>\n",
       "      <td>44838</td>\n",
       "      <td>96</td>\n",
       "    </tr>\n",
       "    <tr>\n",
       "      <th>3</th>\n",
       "      <td>4</td>\n",
       "      <td>272</td>\n",
       "      <td>female</td>\n",
       "      <td>34</td>\n",
       "      <td>22169</td>\n",
       "      <td>65</td>\n",
       "    </tr>\n",
       "    <tr>\n",
       "      <th>4</th>\n",
       "      <td>5</td>\n",
       "      <td>809</td>\n",
       "      <td>male</td>\n",
       "      <td>41</td>\n",
       "      <td>26460</td>\n",
       "      <td>12</td>\n",
       "    </tr>\n",
       "    <tr>\n",
       "      <th>...</th>\n",
       "      <td>...</td>\n",
       "      <td>...</td>\n",
       "      <td>...</td>\n",
       "      <td>...</td>\n",
       "      <td>...</td>\n",
       "      <td>...</td>\n",
       "    </tr>\n",
       "    <tr>\n",
       "      <th>195</th>\n",
       "      <td>196</td>\n",
       "      <td>830</td>\n",
       "      <td>male</td>\n",
       "      <td>25</td>\n",
       "      <td>39716</td>\n",
       "      <td>23</td>\n",
       "    </tr>\n",
       "    <tr>\n",
       "      <th>196</th>\n",
       "      <td>197</td>\n",
       "      <td>127</td>\n",
       "      <td>male</td>\n",
       "      <td>42</td>\n",
       "      <td>20019</td>\n",
       "      <td>5</td>\n",
       "    </tr>\n",
       "    <tr>\n",
       "      <th>197</th>\n",
       "      <td>198</td>\n",
       "      <td>459</td>\n",
       "      <td>male</td>\n",
       "      <td>37</td>\n",
       "      <td>43772</td>\n",
       "      <td>78</td>\n",
       "    </tr>\n",
       "    <tr>\n",
       "      <th>198</th>\n",
       "      <td>199</td>\n",
       "      <td>744</td>\n",
       "      <td>female</td>\n",
       "      <td>39</td>\n",
       "      <td>29604</td>\n",
       "      <td>97</td>\n",
       "    </tr>\n",
       "    <tr>\n",
       "      <th>199</th>\n",
       "      <td>200</td>\n",
       "      <td>561</td>\n",
       "      <td>male</td>\n",
       "      <td>29</td>\n",
       "      <td>22752</td>\n",
       "      <td>39</td>\n",
       "    </tr>\n",
       "  </tbody>\n",
       "</table>\n",
       "<p>200 rows × 6 columns</p>\n",
       "</div>"
      ],
      "text/plain": [
       "     SR NO  CUSTOMER ID  GENDER  AGE  ANNUAL INCOME  SPENDING SCORE\n",
       "0        1          582    male   47          29529              69\n",
       "1        2          748    male   26          34771              56\n",
       "2        3          191  female   37          44838              96\n",
       "3        4          272  female   34          22169              65\n",
       "4        5          809    male   41          26460              12\n",
       "..     ...          ...     ...  ...            ...             ...\n",
       "195    196          830    male   25          39716              23\n",
       "196    197          127    male   42          20019               5\n",
       "197    198          459    male   37          43772              78\n",
       "198    199          744  female   39          29604              97\n",
       "199    200          561    male   29          22752              39\n",
       "\n",
       "[200 rows x 6 columns]"
      ]
     },
     "execution_count": 11,
     "metadata": {},
     "output_type": "execute_result"
    }
   ],
   "source": [
    "df"
   ]
  },
  {
   "cell_type": "code",
   "execution_count": 12,
   "id": "659ec1d2",
   "metadata": {},
   "outputs": [
    {
     "name": "stderr",
     "output_type": "stream",
     "text": [
      "C:\\Users\\Welcome\\AppData\\Local\\Temp\\ipykernel_10568\\3421726114.py:1: FutureWarning: Dropping of nuisance columns in DataFrame reductions (with 'numeric_only=None') is deprecated; in a future version this will raise TypeError.  Select only valid columns before calling the reduction.\n",
      "  df.mean(axis=1)[0:4]\n"
     ]
    },
    {
     "data": {
      "text/plain": [
       "0    6045.6\n",
       "1    7120.6\n",
       "2    9033.0\n",
       "3    4508.8\n",
       "dtype: float64"
      ]
     },
     "execution_count": 12,
     "metadata": {},
     "output_type": "execute_result"
    }
   ],
   "source": [
    "df.mean(axis=1)[0:4] \n"
   ]
  },
  {
   "cell_type": "code",
   "execution_count": 13,
   "id": "2767e88a",
   "metadata": {},
   "outputs": [
    {
     "name": "stderr",
     "output_type": "stream",
     "text": [
      "C:\\Users\\Welcome\\AppData\\Local\\Temp\\ipykernel_10568\\4151078170.py:1: FutureWarning: The default value of numeric_only in DataFrame.median is deprecated. In a future version, it will default to False. In addition, specifying 'numeric_only=None' is deprecated. Select only valid columns or specify the value of numeric_only to silence this warning.\n",
      "  df.median()\n"
     ]
    },
    {
     "data": {
      "text/plain": [
       "SR NO               100.5\n",
       "CUSTOMER ID         579.5\n",
       "AGE                  38.0\n",
       "ANNUAL INCOME     36726.5\n",
       "SPENDING SCORE       53.5\n",
       "dtype: float64"
      ]
     },
     "execution_count": 13,
     "metadata": {},
     "output_type": "execute_result"
    }
   ],
   "source": [
    "df.median() "
   ]
  },
  {
   "cell_type": "code",
   "execution_count": 15,
   "id": "1cae84f7",
   "metadata": {},
   "outputs": [
    {
     "data": {
      "text/plain": [
       "38.0"
      ]
     },
     "execution_count": 15,
     "metadata": {},
     "output_type": "execute_result"
    }
   ],
   "source": [
    "df.loc[:,'AGE'].median() "
   ]
  },
  {
   "cell_type": "code",
   "execution_count": 16,
   "id": "8cae9f27",
   "metadata": {},
   "outputs": [
    {
     "name": "stderr",
     "output_type": "stream",
     "text": [
      "C:\\Users\\Welcome\\AppData\\Local\\Temp\\ipykernel_10568\\3013330836.py:1: FutureWarning: Dropping of nuisance columns in DataFrame reductions (with 'numeric_only=None') is deprecated; in a future version this will raise TypeError.  Select only valid columns before calling the reduction.\n",
      "  df.median(axis=1)[0:4]\n"
     ]
    },
    {
     "data": {
      "text/plain": [
       "0    69.0\n",
       "1    56.0\n",
       "2    96.0\n",
       "3    65.0\n",
       "dtype: float64"
      ]
     },
     "execution_count": 16,
     "metadata": {},
     "output_type": "execute_result"
    }
   ],
   "source": [
    "df.median(axis=1)[0:4] "
   ]
  },
  {
   "cell_type": "code",
   "execution_count": 17,
   "id": "435f7573",
   "metadata": {},
   "outputs": [
    {
     "data": {
      "text/html": [
       "<div>\n",
       "<style scoped>\n",
       "    .dataframe tbody tr th:only-of-type {\n",
       "        vertical-align: middle;\n",
       "    }\n",
       "\n",
       "    .dataframe tbody tr th {\n",
       "        vertical-align: top;\n",
       "    }\n",
       "\n",
       "    .dataframe thead th {\n",
       "        text-align: right;\n",
       "    }\n",
       "</style>\n",
       "<table border=\"1\" class=\"dataframe\">\n",
       "  <thead>\n",
       "    <tr style=\"text-align: right;\">\n",
       "      <th></th>\n",
       "      <th>SR NO</th>\n",
       "      <th>CUSTOMER ID</th>\n",
       "      <th>GENDER</th>\n",
       "      <th>AGE</th>\n",
       "      <th>ANNUAL INCOME</th>\n",
       "      <th>SPENDING SCORE</th>\n",
       "    </tr>\n",
       "  </thead>\n",
       "  <tbody>\n",
       "    <tr>\n",
       "      <th>0</th>\n",
       "      <td>1</td>\n",
       "      <td>161.0</td>\n",
       "      <td>male</td>\n",
       "      <td>39.0</td>\n",
       "      <td>20019</td>\n",
       "      <td>15.0</td>\n",
       "    </tr>\n",
       "    <tr>\n",
       "      <th>1</th>\n",
       "      <td>2</td>\n",
       "      <td>167.0</td>\n",
       "      <td>NaN</td>\n",
       "      <td>NaN</td>\n",
       "      <td>20522</td>\n",
       "      <td>62.0</td>\n",
       "    </tr>\n",
       "    <tr>\n",
       "      <th>2</th>\n",
       "      <td>3</td>\n",
       "      <td>184.0</td>\n",
       "      <td>NaN</td>\n",
       "      <td>NaN</td>\n",
       "      <td>20820</td>\n",
       "      <td>NaN</td>\n",
       "    </tr>\n",
       "    <tr>\n",
       "      <th>3</th>\n",
       "      <td>4</td>\n",
       "      <td>214.0</td>\n",
       "      <td>NaN</td>\n",
       "      <td>NaN</td>\n",
       "      <td>21104</td>\n",
       "      <td>NaN</td>\n",
       "    </tr>\n",
       "    <tr>\n",
       "      <th>4</th>\n",
       "      <td>5</td>\n",
       "      <td>230.0</td>\n",
       "      <td>NaN</td>\n",
       "      <td>NaN</td>\n",
       "      <td>21305</td>\n",
       "      <td>NaN</td>\n",
       "    </tr>\n",
       "    <tr>\n",
       "      <th>...</th>\n",
       "      <td>...</td>\n",
       "      <td>...</td>\n",
       "      <td>...</td>\n",
       "      <td>...</td>\n",
       "      <td>...</td>\n",
       "      <td>...</td>\n",
       "    </tr>\n",
       "    <tr>\n",
       "      <th>195</th>\n",
       "      <td>196</td>\n",
       "      <td>NaN</td>\n",
       "      <td>NaN</td>\n",
       "      <td>NaN</td>\n",
       "      <td>49457</td>\n",
       "      <td>NaN</td>\n",
       "    </tr>\n",
       "    <tr>\n",
       "      <th>196</th>\n",
       "      <td>197</td>\n",
       "      <td>NaN</td>\n",
       "      <td>NaN</td>\n",
       "      <td>NaN</td>\n",
       "      <td>49612</td>\n",
       "      <td>NaN</td>\n",
       "    </tr>\n",
       "    <tr>\n",
       "      <th>197</th>\n",
       "      <td>198</td>\n",
       "      <td>NaN</td>\n",
       "      <td>NaN</td>\n",
       "      <td>NaN</td>\n",
       "      <td>49777</td>\n",
       "      <td>NaN</td>\n",
       "    </tr>\n",
       "    <tr>\n",
       "      <th>198</th>\n",
       "      <td>199</td>\n",
       "      <td>NaN</td>\n",
       "      <td>NaN</td>\n",
       "      <td>NaN</td>\n",
       "      <td>49799</td>\n",
       "      <td>NaN</td>\n",
       "    </tr>\n",
       "    <tr>\n",
       "      <th>199</th>\n",
       "      <td>200</td>\n",
       "      <td>NaN</td>\n",
       "      <td>NaN</td>\n",
       "      <td>NaN</td>\n",
       "      <td>49943</td>\n",
       "      <td>NaN</td>\n",
       "    </tr>\n",
       "  </tbody>\n",
       "</table>\n",
       "<p>200 rows × 6 columns</p>\n",
       "</div>"
      ],
      "text/plain": [
       "     SR NO  CUSTOMER ID GENDER   AGE  ANNUAL INCOME  SPENDING SCORE\n",
       "0        1        161.0   male  39.0          20019            15.0\n",
       "1        2        167.0    NaN   NaN          20522            62.0\n",
       "2        3        184.0    NaN   NaN          20820             NaN\n",
       "3        4        214.0    NaN   NaN          21104             NaN\n",
       "4        5        230.0    NaN   NaN          21305             NaN\n",
       "..     ...          ...    ...   ...            ...             ...\n",
       "195    196          NaN    NaN   NaN          49457             NaN\n",
       "196    197          NaN    NaN   NaN          49612             NaN\n",
       "197    198          NaN    NaN   NaN          49777             NaN\n",
       "198    199          NaN    NaN   NaN          49799             NaN\n",
       "199    200          NaN    NaN   NaN          49943             NaN\n",
       "\n",
       "[200 rows x 6 columns]"
      ]
     },
     "execution_count": 17,
     "metadata": {},
     "output_type": "execute_result"
    }
   ],
   "source": [
    "df.mode()"
   ]
  },
  {
   "cell_type": "code",
   "execution_count": 18,
   "id": "0b355186",
   "metadata": {},
   "outputs": [
    {
     "data": {
      "text/plain": [
       "0    39\n",
       "Name: AGE, dtype: int64"
      ]
     },
     "execution_count": 18,
     "metadata": {},
     "output_type": "execute_result"
    }
   ],
   "source": [
    "df.loc[:,'AGE'].mode() "
   ]
  },
  {
   "cell_type": "code",
   "execution_count": 19,
   "id": "dd86e94b",
   "metadata": {},
   "outputs": [
    {
     "data": {
      "text/plain": [
       "SR NO                  1\n",
       "CUSTOMER ID          116\n",
       "GENDER            female\n",
       "AGE                   25\n",
       "ANNUAL INCOME      20019\n",
       "SPENDING SCORE         2\n",
       "dtype: object"
      ]
     },
     "execution_count": 19,
     "metadata": {},
     "output_type": "execute_result"
    }
   ],
   "source": [
    "df.min()"
   ]
  },
  {
   "cell_type": "code",
   "execution_count": 20,
   "id": "ea7494f8",
   "metadata": {},
   "outputs": [
    {
     "data": {
      "text/plain": [
       "25"
      ]
     },
     "execution_count": 20,
     "metadata": {},
     "output_type": "execute_result"
    }
   ],
   "source": [
    "df.loc[:,'AGE'].min(skipna = False) "
   ]
  },
  {
   "cell_type": "code",
   "execution_count": 21,
   "id": "80c6030e",
   "metadata": {},
   "outputs": [
    {
     "data": {
      "text/plain": [
       "SR NO               200\n",
       "CUSTOMER ID         996\n",
       "GENDER             male\n",
       "AGE                  50\n",
       "ANNUAL INCOME     49943\n",
       "SPENDING SCORE      100\n",
       "dtype: object"
      ]
     },
     "execution_count": 21,
     "metadata": {},
     "output_type": "execute_result"
    }
   ],
   "source": [
    "df.max() "
   ]
  },
  {
   "cell_type": "code",
   "execution_count": 22,
   "id": "e4057fd6",
   "metadata": {},
   "outputs": [
    {
     "data": {
      "text/plain": [
       "50"
      ]
     },
     "execution_count": 22,
     "metadata": {},
     "output_type": "execute_result"
    }
   ],
   "source": [
    "df.loc[:,'AGE'].max(skipna = False) "
   ]
  },
  {
   "cell_type": "code",
   "execution_count": 23,
   "id": "e5b34ad6",
   "metadata": {},
   "outputs": [
    {
     "name": "stderr",
     "output_type": "stream",
     "text": [
      "C:\\Users\\Welcome\\AppData\\Local\\Temp\\ipykernel_10568\\3390915376.py:1: FutureWarning: The default value of numeric_only in DataFrame.std is deprecated. In a future version, it will default to False. In addition, specifying 'numeric_only=None' is deprecated. Select only valid columns or specify the value of numeric_only to silence this warning.\n",
      "  df.std()\n"
     ]
    },
    {
     "data": {
      "text/plain": [
       "SR NO               57.879185\n",
       "CUSTOMER ID        252.775150\n",
       "AGE                  7.538962\n",
       "ANNUAL INCOME     8157.467081\n",
       "SPENDING SCORE      29.451791\n",
       "dtype: float64"
      ]
     },
     "execution_count": 23,
     "metadata": {},
     "output_type": "execute_result"
    }
   ],
   "source": [
    "df.std()"
   ]
  },
  {
   "cell_type": "code",
   "execution_count": 25,
   "id": "0750b995",
   "metadata": {},
   "outputs": [
    {
     "data": {
      "text/plain": [
       "7.538962446774047"
      ]
     },
     "execution_count": 25,
     "metadata": {},
     "output_type": "execute_result"
    }
   ],
   "source": [
    "df.loc[:,'AGE'].std()"
   ]
  },
  {
   "cell_type": "code",
   "execution_count": 26,
   "id": "3e1624b8",
   "metadata": {},
   "outputs": [
    {
     "name": "stderr",
     "output_type": "stream",
     "text": [
      "C:\\Users\\Welcome\\AppData\\Local\\Temp\\ipykernel_10568\\2185080913.py:1: FutureWarning: Dropping of nuisance columns in DataFrame reductions (with 'numeric_only=None') is deprecated; in a future version this will raise TypeError.  Select only valid columns before calling the reduction.\n",
      "  df.std(axis=1)[0:4]\n"
     ]
    },
    {
     "data": {
      "text/plain": [
       "0    13129.748086\n",
       "1    15460.199216\n",
       "2    20015.730526\n",
       "3     9872.911865\n",
       "dtype: float64"
      ]
     },
     "execution_count": 26,
     "metadata": {},
     "output_type": "execute_result"
    }
   ],
   "source": [
    "df.std(axis=1)[0:4]\n"
   ]
  },
  {
   "cell_type": "code",
   "execution_count": 27,
   "id": "ca9263be",
   "metadata": {},
   "outputs": [
    {
     "data": {
      "text/plain": [
       "GENDER\n",
       "female    37.935065\n",
       "male      37.447154\n",
       "Name: AGE, dtype: float64"
      ]
     },
     "execution_count": 27,
     "metadata": {},
     "output_type": "execute_result"
    }
   ],
   "source": [
    "df.groupby(['GENDER'])['AGE'].mean()"
   ]
  },
  {
   "cell_type": "code",
   "execution_count": 28,
   "id": "17f7d909",
   "metadata": {},
   "outputs": [
    {
     "data": {
      "text/plain": [
       "GENDER\n",
       "female    35904.220779\n",
       "male      36075.845528\n",
       "Name: Income, dtype: float64"
      ]
     },
     "execution_count": 28,
     "metadata": {},
     "output_type": "execute_result"
    }
   ],
   "source": [
    "df_u=df.rename(columns= {'ANNUAL INCOME':'Income'},inplace=False)\n",
    "(df_u.groupby(['GENDER']).Income.mean())"
   ]
  },
  {
   "cell_type": "code",
   "execution_count": 30,
   "id": "7869cfb3",
   "metadata": {},
   "outputs": [
    {
     "data": {
      "text/html": [
       "<div>\n",
       "<style scoped>\n",
       "    .dataframe tbody tr th:only-of-type {\n",
       "        vertical-align: middle;\n",
       "    }\n",
       "\n",
       "    .dataframe tbody tr th {\n",
       "        vertical-align: top;\n",
       "    }\n",
       "\n",
       "    .dataframe thead th {\n",
       "        text-align: right;\n",
       "    }\n",
       "</style>\n",
       "<table border=\"1\" class=\"dataframe\">\n",
       "  <thead>\n",
       "    <tr style=\"text-align: right;\">\n",
       "      <th></th>\n",
       "      <th>0</th>\n",
       "      <th>1</th>\n",
       "    </tr>\n",
       "  </thead>\n",
       "  <tbody>\n",
       "    <tr>\n",
       "      <th>0</th>\n",
       "      <td>0.0</td>\n",
       "      <td>1.0</td>\n",
       "    </tr>\n",
       "    <tr>\n",
       "      <th>1</th>\n",
       "      <td>0.0</td>\n",
       "      <td>1.0</td>\n",
       "    </tr>\n",
       "    <tr>\n",
       "      <th>2</th>\n",
       "      <td>1.0</td>\n",
       "      <td>0.0</td>\n",
       "    </tr>\n",
       "    <tr>\n",
       "      <th>3</th>\n",
       "      <td>1.0</td>\n",
       "      <td>0.0</td>\n",
       "    </tr>\n",
       "    <tr>\n",
       "      <th>4</th>\n",
       "      <td>0.0</td>\n",
       "      <td>1.0</td>\n",
       "    </tr>\n",
       "    <tr>\n",
       "      <th>...</th>\n",
       "      <td>...</td>\n",
       "      <td>...</td>\n",
       "    </tr>\n",
       "    <tr>\n",
       "      <th>195</th>\n",
       "      <td>0.0</td>\n",
       "      <td>1.0</td>\n",
       "    </tr>\n",
       "    <tr>\n",
       "      <th>196</th>\n",
       "      <td>0.0</td>\n",
       "      <td>1.0</td>\n",
       "    </tr>\n",
       "    <tr>\n",
       "      <th>197</th>\n",
       "      <td>0.0</td>\n",
       "      <td>1.0</td>\n",
       "    </tr>\n",
       "    <tr>\n",
       "      <th>198</th>\n",
       "      <td>1.0</td>\n",
       "      <td>0.0</td>\n",
       "    </tr>\n",
       "    <tr>\n",
       "      <th>199</th>\n",
       "      <td>0.0</td>\n",
       "      <td>1.0</td>\n",
       "    </tr>\n",
       "  </tbody>\n",
       "</table>\n",
       "<p>200 rows × 2 columns</p>\n",
       "</div>"
      ],
      "text/plain": [
       "       0    1\n",
       "0    0.0  1.0\n",
       "1    0.0  1.0\n",
       "2    1.0  0.0\n",
       "3    1.0  0.0\n",
       "4    0.0  1.0\n",
       "..   ...  ...\n",
       "195  0.0  1.0\n",
       "196  0.0  1.0\n",
       "197  0.0  1.0\n",
       "198  1.0  0.0\n",
       "199  0.0  1.0\n",
       "\n",
       "[200 rows x 2 columns]"
      ]
     },
     "execution_count": 30,
     "metadata": {},
     "output_type": "execute_result"
    }
   ],
   "source": [
    "from sklearn import preprocessing \n",
    "enc = preprocessing.OneHotEncoder() \n",
    "enc_df = pd.DataFrame(enc.fit_transform(df[['GENDER']]).toarray()) \n",
    "enc_df"
   ]
  },
  {
   "cell_type": "code",
   "execution_count": 31,
   "id": "5d4132ff",
   "metadata": {},
   "outputs": [
    {
     "data": {
      "text/html": [
       "<div>\n",
       "<style scoped>\n",
       "    .dataframe tbody tr th:only-of-type {\n",
       "        vertical-align: middle;\n",
       "    }\n",
       "\n",
       "    .dataframe tbody tr th {\n",
       "        vertical-align: top;\n",
       "    }\n",
       "\n",
       "    .dataframe thead th {\n",
       "        text-align: right;\n",
       "    }\n",
       "</style>\n",
       "<table border=\"1\" class=\"dataframe\">\n",
       "  <thead>\n",
       "    <tr style=\"text-align: right;\">\n",
       "      <th></th>\n",
       "      <th>SR NO</th>\n",
       "      <th>CUSTOMER ID</th>\n",
       "      <th>GENDER</th>\n",
       "      <th>AGE</th>\n",
       "      <th>Income</th>\n",
       "      <th>SPENDING SCORE</th>\n",
       "      <th>0</th>\n",
       "      <th>1</th>\n",
       "    </tr>\n",
       "  </thead>\n",
       "  <tbody>\n",
       "    <tr>\n",
       "      <th>0</th>\n",
       "      <td>1</td>\n",
       "      <td>582</td>\n",
       "      <td>male</td>\n",
       "      <td>47</td>\n",
       "      <td>29529</td>\n",
       "      <td>69</td>\n",
       "      <td>0.0</td>\n",
       "      <td>1.0</td>\n",
       "    </tr>\n",
       "    <tr>\n",
       "      <th>1</th>\n",
       "      <td>2</td>\n",
       "      <td>748</td>\n",
       "      <td>male</td>\n",
       "      <td>26</td>\n",
       "      <td>34771</td>\n",
       "      <td>56</td>\n",
       "      <td>0.0</td>\n",
       "      <td>1.0</td>\n",
       "    </tr>\n",
       "    <tr>\n",
       "      <th>2</th>\n",
       "      <td>3</td>\n",
       "      <td>191</td>\n",
       "      <td>female</td>\n",
       "      <td>37</td>\n",
       "      <td>44838</td>\n",
       "      <td>96</td>\n",
       "      <td>1.0</td>\n",
       "      <td>0.0</td>\n",
       "    </tr>\n",
       "    <tr>\n",
       "      <th>3</th>\n",
       "      <td>4</td>\n",
       "      <td>272</td>\n",
       "      <td>female</td>\n",
       "      <td>34</td>\n",
       "      <td>22169</td>\n",
       "      <td>65</td>\n",
       "      <td>1.0</td>\n",
       "      <td>0.0</td>\n",
       "    </tr>\n",
       "    <tr>\n",
       "      <th>4</th>\n",
       "      <td>5</td>\n",
       "      <td>809</td>\n",
       "      <td>male</td>\n",
       "      <td>41</td>\n",
       "      <td>26460</td>\n",
       "      <td>12</td>\n",
       "      <td>0.0</td>\n",
       "      <td>1.0</td>\n",
       "    </tr>\n",
       "    <tr>\n",
       "      <th>...</th>\n",
       "      <td>...</td>\n",
       "      <td>...</td>\n",
       "      <td>...</td>\n",
       "      <td>...</td>\n",
       "      <td>...</td>\n",
       "      <td>...</td>\n",
       "      <td>...</td>\n",
       "      <td>...</td>\n",
       "    </tr>\n",
       "    <tr>\n",
       "      <th>195</th>\n",
       "      <td>196</td>\n",
       "      <td>830</td>\n",
       "      <td>male</td>\n",
       "      <td>25</td>\n",
       "      <td>39716</td>\n",
       "      <td>23</td>\n",
       "      <td>0.0</td>\n",
       "      <td>1.0</td>\n",
       "    </tr>\n",
       "    <tr>\n",
       "      <th>196</th>\n",
       "      <td>197</td>\n",
       "      <td>127</td>\n",
       "      <td>male</td>\n",
       "      <td>42</td>\n",
       "      <td>20019</td>\n",
       "      <td>5</td>\n",
       "      <td>0.0</td>\n",
       "      <td>1.0</td>\n",
       "    </tr>\n",
       "    <tr>\n",
       "      <th>197</th>\n",
       "      <td>198</td>\n",
       "      <td>459</td>\n",
       "      <td>male</td>\n",
       "      <td>37</td>\n",
       "      <td>43772</td>\n",
       "      <td>78</td>\n",
       "      <td>0.0</td>\n",
       "      <td>1.0</td>\n",
       "    </tr>\n",
       "    <tr>\n",
       "      <th>198</th>\n",
       "      <td>199</td>\n",
       "      <td>744</td>\n",
       "      <td>female</td>\n",
       "      <td>39</td>\n",
       "      <td>29604</td>\n",
       "      <td>97</td>\n",
       "      <td>1.0</td>\n",
       "      <td>0.0</td>\n",
       "    </tr>\n",
       "    <tr>\n",
       "      <th>199</th>\n",
       "      <td>200</td>\n",
       "      <td>561</td>\n",
       "      <td>male</td>\n",
       "      <td>29</td>\n",
       "      <td>22752</td>\n",
       "      <td>39</td>\n",
       "      <td>0.0</td>\n",
       "      <td>1.0</td>\n",
       "    </tr>\n",
       "  </tbody>\n",
       "</table>\n",
       "<p>200 rows × 8 columns</p>\n",
       "</div>"
      ],
      "text/plain": [
       "     SR NO  CUSTOMER ID  GENDER  AGE  Income  SPENDING SCORE    0    1\n",
       "0        1          582    male   47   29529              69  0.0  1.0\n",
       "1        2          748    male   26   34771              56  0.0  1.0\n",
       "2        3          191  female   37   44838              96  1.0  0.0\n",
       "3        4          272  female   34   22169              65  1.0  0.0\n",
       "4        5          809    male   41   26460              12  0.0  1.0\n",
       "..     ...          ...     ...  ...     ...             ...  ...  ...\n",
       "195    196          830    male   25   39716              23  0.0  1.0\n",
       "196    197          127    male   42   20019               5  0.0  1.0\n",
       "197    198          459    male   37   43772              78  0.0  1.0\n",
       "198    199          744  female   39   29604              97  1.0  0.0\n",
       "199    200          561    male   29   22752              39  0.0  1.0\n",
       "\n",
       "[200 rows x 8 columns]"
      ]
     },
     "execution_count": 31,
     "metadata": {},
     "output_type": "execute_result"
    }
   ],
   "source": [
    "df_encode =df_u.join(enc_df) \n",
    "df_encode"
   ]
  },
  {
   "cell_type": "code",
   "execution_count": 32,
   "id": "8897f423",
   "metadata": {},
   "outputs": [
    {
     "name": "stderr",
     "output_type": "stream",
     "text": [
      "C:\\Users\\Welcome\\AppData\\Local\\Temp\\ipykernel_10568\\3759992827.py:1: FutureWarning: The default value of numeric_only in DataFrame.mean is deprecated. In a future version, it will default to False. In addition, specifying 'numeric_only=None' is deprecated. Select only valid columns or specify the value of numeric_only to silence this warning.\n",
      "  df.mean()\n"
     ]
    },
    {
     "data": {
      "text/plain": [
       "SR NO               100.500\n",
       "CUSTOMER ID         549.600\n",
       "AGE                  37.635\n",
       "ANNUAL INCOME     36009.770\n",
       "SPENDING SCORE       50.405\n",
       "dtype: float64"
      ]
     },
     "execution_count": 32,
     "metadata": {},
     "output_type": "execute_result"
    }
   ],
   "source": [
    "df.mean() "
   ]
  },
  {
   "cell_type": "code",
   "execution_count": null,
   "id": "c26221cd",
   "metadata": {},
   "outputs": [],
   "source": [
    "NAME:SHREYA JADHAV\n",
    "ROLL NO:13207"
   ]
  },
  {
   "cell_type": "code",
   "execution_count": null,
   "id": "1eff046b",
   "metadata": {},
   "outputs": [],
   "source": []
  }
 ],
 "metadata": {
  "kernelspec": {
   "display_name": "Python 3 (ipykernel)",
   "language": "python",
   "name": "python3"
  },
  "language_info": {
   "codemirror_mode": {
    "name": "ipython",
    "version": 3
   },
   "file_extension": ".py",
   "mimetype": "text/x-python",
   "name": "python",
   "nbconvert_exporter": "python",
   "pygments_lexer": "ipython3",
   "version": "3.11.4"
  }
 },
 "nbformat": 4,
 "nbformat_minor": 5
}
