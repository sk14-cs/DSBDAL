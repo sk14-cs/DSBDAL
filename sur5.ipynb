{
 "cells": [
  {
   "cell_type": "code",
   "execution_count": null,
   "id": "0195285f-c3bf-4015-bde5-d4227e05d7ab",
   "metadata": {},
   "outputs": [],
   "source": [
    "                                   ASSIGNMENT NO:5"
   ]
  },
  {
   "cell_type": "code",
   "execution_count": null,
   "id": "0488882e-4122-4f58-953f-7cffa08b906e",
   "metadata": {},
   "outputs": [],
   "source": [
    "AIM: To learn about\n",
    "    1. Logistic Regression \n",
    "    2. Differentiate between Linear and Logistic Regression \n",
    "    3. Sigmoid Function \n",
    "    4. Types of LogisticRegression \n",
    "    5. Confusion Matrix Evaluation Metrics "
   ]
  },
  {
   "cell_type": "code",
   "execution_count": 2,
   "id": "59042df6-3dfa-40d7-9d53-6bf74b494777",
   "metadata": {},
   "outputs": [],
   "source": [
    "import pandas as pd"
   ]
  },
  {
   "cell_type": "code",
   "execution_count": 3,
   "id": "f6370567-f5d0-4a6d-9850-9802cc8a88d3",
   "metadata": {},
   "outputs": [],
   "source": [
    "import numpy as np"
   ]
  },
  {
   "cell_type": "code",
   "execution_count": 4,
   "id": "e8d3a45a-16ce-4c68-9c60-86067d2067de",
   "metadata": {},
   "outputs": [],
   "source": [
    "import matplotlib.pyplot as plt"
   ]
  },
  {
   "cell_type": "code",
   "execution_count": 10,
   "id": "fc1c1370-bc39-4904-9405-3f7f464450ba",
   "metadata": {},
   "outputs": [],
   "source": [
    "df = pd.read_csv(\"C:\\\\Users\\\\SSOS19\\\\Desktop\\\\13215\\\\archive (9)\\\\diabetes.csv\")"
   ]
  },
  {
   "cell_type": "code",
   "execution_count": 11,
   "id": "03928c8c-ec06-49e7-88ca-bd0b7db5a074",
   "metadata": {},
   "outputs": [
    {
     "data": {
      "text/html": [
       "<div>\n",
       "<style scoped>\n",
       "    .dataframe tbody tr th:only-of-type {\n",
       "        vertical-align: middle;\n",
       "    }\n",
       "\n",
       "    .dataframe tbody tr th {\n",
       "        vertical-align: top;\n",
       "    }\n",
       "\n",
       "    .dataframe thead th {\n",
       "        text-align: right;\n",
       "    }\n",
       "</style>\n",
       "<table border=\"1\" class=\"dataframe\">\n",
       "  <thead>\n",
       "    <tr style=\"text-align: right;\">\n",
       "      <th></th>\n",
       "      <th>Pregnancies</th>\n",
       "      <th>Glucose</th>\n",
       "      <th>BloodPressure</th>\n",
       "      <th>SkinThickness</th>\n",
       "      <th>Insulin</th>\n",
       "      <th>BMI</th>\n",
       "      <th>DiabetesPedigreeFunction</th>\n",
       "      <th>Age</th>\n",
       "      <th>Outcome</th>\n",
       "    </tr>\n",
       "  </thead>\n",
       "  <tbody>\n",
       "    <tr>\n",
       "      <th>0</th>\n",
       "      <td>6</td>\n",
       "      <td>148</td>\n",
       "      <td>72</td>\n",
       "      <td>35</td>\n",
       "      <td>0</td>\n",
       "      <td>33.6</td>\n",
       "      <td>0.627</td>\n",
       "      <td>50</td>\n",
       "      <td>1</td>\n",
       "    </tr>\n",
       "    <tr>\n",
       "      <th>1</th>\n",
       "      <td>1</td>\n",
       "      <td>85</td>\n",
       "      <td>66</td>\n",
       "      <td>29</td>\n",
       "      <td>0</td>\n",
       "      <td>26.6</td>\n",
       "      <td>0.351</td>\n",
       "      <td>31</td>\n",
       "      <td>0</td>\n",
       "    </tr>\n",
       "    <tr>\n",
       "      <th>2</th>\n",
       "      <td>8</td>\n",
       "      <td>183</td>\n",
       "      <td>64</td>\n",
       "      <td>0</td>\n",
       "      <td>0</td>\n",
       "      <td>23.3</td>\n",
       "      <td>0.672</td>\n",
       "      <td>32</td>\n",
       "      <td>1</td>\n",
       "    </tr>\n",
       "    <tr>\n",
       "      <th>3</th>\n",
       "      <td>1</td>\n",
       "      <td>89</td>\n",
       "      <td>66</td>\n",
       "      <td>23</td>\n",
       "      <td>94</td>\n",
       "      <td>28.1</td>\n",
       "      <td>0.167</td>\n",
       "      <td>21</td>\n",
       "      <td>0</td>\n",
       "    </tr>\n",
       "    <tr>\n",
       "      <th>4</th>\n",
       "      <td>0</td>\n",
       "      <td>137</td>\n",
       "      <td>40</td>\n",
       "      <td>35</td>\n",
       "      <td>168</td>\n",
       "      <td>43.1</td>\n",
       "      <td>2.288</td>\n",
       "      <td>33</td>\n",
       "      <td>1</td>\n",
       "    </tr>\n",
       "    <tr>\n",
       "      <th>...</th>\n",
       "      <td>...</td>\n",
       "      <td>...</td>\n",
       "      <td>...</td>\n",
       "      <td>...</td>\n",
       "      <td>...</td>\n",
       "      <td>...</td>\n",
       "      <td>...</td>\n",
       "      <td>...</td>\n",
       "      <td>...</td>\n",
       "    </tr>\n",
       "    <tr>\n",
       "      <th>763</th>\n",
       "      <td>10</td>\n",
       "      <td>101</td>\n",
       "      <td>76</td>\n",
       "      <td>48</td>\n",
       "      <td>180</td>\n",
       "      <td>32.9</td>\n",
       "      <td>0.171</td>\n",
       "      <td>63</td>\n",
       "      <td>0</td>\n",
       "    </tr>\n",
       "    <tr>\n",
       "      <th>764</th>\n",
       "      <td>2</td>\n",
       "      <td>122</td>\n",
       "      <td>70</td>\n",
       "      <td>27</td>\n",
       "      <td>0</td>\n",
       "      <td>36.8</td>\n",
       "      <td>0.340</td>\n",
       "      <td>27</td>\n",
       "      <td>0</td>\n",
       "    </tr>\n",
       "    <tr>\n",
       "      <th>765</th>\n",
       "      <td>5</td>\n",
       "      <td>121</td>\n",
       "      <td>72</td>\n",
       "      <td>23</td>\n",
       "      <td>112</td>\n",
       "      <td>26.2</td>\n",
       "      <td>0.245</td>\n",
       "      <td>30</td>\n",
       "      <td>0</td>\n",
       "    </tr>\n",
       "    <tr>\n",
       "      <th>766</th>\n",
       "      <td>1</td>\n",
       "      <td>126</td>\n",
       "      <td>60</td>\n",
       "      <td>0</td>\n",
       "      <td>0</td>\n",
       "      <td>30.1</td>\n",
       "      <td>0.349</td>\n",
       "      <td>47</td>\n",
       "      <td>1</td>\n",
       "    </tr>\n",
       "    <tr>\n",
       "      <th>767</th>\n",
       "      <td>1</td>\n",
       "      <td>93</td>\n",
       "      <td>70</td>\n",
       "      <td>31</td>\n",
       "      <td>0</td>\n",
       "      <td>30.4</td>\n",
       "      <td>0.315</td>\n",
       "      <td>23</td>\n",
       "      <td>0</td>\n",
       "    </tr>\n",
       "  </tbody>\n",
       "</table>\n",
       "<p>768 rows × 9 columns</p>\n",
       "</div>"
      ],
      "text/plain": [
       "     Pregnancies  Glucose  BloodPressure  SkinThickness  Insulin   BMI  \\\n",
       "0              6      148             72             35        0  33.6   \n",
       "1              1       85             66             29        0  26.6   \n",
       "2              8      183             64              0        0  23.3   \n",
       "3              1       89             66             23       94  28.1   \n",
       "4              0      137             40             35      168  43.1   \n",
       "..           ...      ...            ...            ...      ...   ...   \n",
       "763           10      101             76             48      180  32.9   \n",
       "764            2      122             70             27        0  36.8   \n",
       "765            5      121             72             23      112  26.2   \n",
       "766            1      126             60              0        0  30.1   \n",
       "767            1       93             70             31        0  30.4   \n",
       "\n",
       "     DiabetesPedigreeFunction  Age  Outcome  \n",
       "0                       0.627   50        1  \n",
       "1                       0.351   31        0  \n",
       "2                       0.672   32        1  \n",
       "3                       0.167   21        0  \n",
       "4                       2.288   33        1  \n",
       "..                        ...  ...      ...  \n",
       "763                     0.171   63        0  \n",
       "764                     0.340   27        0  \n",
       "765                     0.245   30        0  \n",
       "766                     0.349   47        1  \n",
       "767                     0.315   23        0  \n",
       "\n",
       "[768 rows x 9 columns]"
      ]
     },
     "execution_count": 11,
     "metadata": {},
     "output_type": "execute_result"
    }
   ],
   "source": [
    "df"
   ]
  },
  {
   "cell_type": "code",
   "execution_count": 12,
   "id": "59df2f8b-e480-4767-8d3a-12450116d376",
   "metadata": {},
   "outputs": [
    {
     "name": "stdout",
     "output_type": "stream",
     "text": [
      "   Pregnancies  Glucose  BloodPressure  SkinThickness  Insulin   BMI  \\\n",
      "0            6      148             72             35        0  33.6   \n",
      "1            1       85             66             29        0  26.6   \n",
      "2            8      183             64              0        0  23.3   \n",
      "3            1       89             66             23       94  28.1   \n",
      "4            0      137             40             35      168  43.1   \n",
      "\n",
      "   DiabetesPedigreeFunction  Age  Outcome  \n",
      "0                     0.627   50        1  \n",
      "1                     0.351   31        0  \n",
      "2                     0.672   32        1  \n",
      "3                     0.167   21        0  \n",
      "4                     2.288   33        1  \n"
     ]
    }
   ],
   "source": [
    "print(df.head())"
   ]
  },
  {
   "cell_type": "code",
   "execution_count": 13,
   "id": "aec0ba43-5475-4359-968e-931b573845d1",
   "metadata": {},
   "outputs": [],
   "source": [
    "df = pd.get_dummies(df, drop_first=True)"
   ]
  },
  {
   "cell_type": "code",
   "execution_count": 14,
   "id": "a980c21c-4761-427c-bce6-5101c3676e62",
   "metadata": {},
   "outputs": [
    {
     "name": "stdout",
     "output_type": "stream",
     "text": [
      "Pregnancies                 0\n",
      "Glucose                     0\n",
      "BloodPressure               0\n",
      "SkinThickness               0\n",
      "Insulin                     0\n",
      "BMI                         0\n",
      "DiabetesPedigreeFunction    0\n",
      "Age                         0\n",
      "Outcome                     0\n",
      "dtype: int64\n"
     ]
    }
   ],
   "source": [
    "print(df.isnull().sum())"
   ]
  },
  {
   "cell_type": "code",
   "execution_count": 15,
   "id": "373dc4b6-e36d-4dbb-bc87-0cc8c9d44f11",
   "metadata": {},
   "outputs": [],
   "source": [
    "df=df.fillna(df.mean())"
   ]
  },
  {
   "cell_type": "code",
   "execution_count": 16,
   "id": "f5e05cff-dd05-4af7-abdd-18eaff04186e",
   "metadata": {},
   "outputs": [
    {
     "name": "stdout",
     "output_type": "stream",
     "text": [
      "                          Pregnancies      Glucose  BloodPressure  \\\n",
      "Pregnancies                 11.354056    13.947131       9.214538   \n",
      "Glucose                     13.947131  1022.248314      94.430956   \n",
      "BloodPressure                9.214538    94.430956     374.647271   \n",
      "SkinThickness               -4.390041    29.239183      64.029396   \n",
      "Insulin                    -28.555231  1220.935799     198.378412   \n",
      "BMI                          0.469774    55.726987      43.004695   \n",
      "DiabetesPedigreeFunction    -0.037426     1.454875       0.264638   \n",
      "Age                         21.570620    99.082805      54.523453   \n",
      "Outcome                      0.356618     7.115079       0.600697   \n",
      "\n",
      "                          SkinThickness       Insulin         BMI  \\\n",
      "Pregnancies                   -4.390041    -28.555231    0.469774   \n",
      "Glucose                       29.239183   1220.935799   55.726987   \n",
      "BloodPressure                 64.029396    198.378412   43.004695   \n",
      "SkinThickness                254.473245    802.979941   49.373869   \n",
      "Insulin                      802.979941  13281.180078  179.775172   \n",
      "BMI                           49.373869    179.775172   62.159984   \n",
      "DiabetesPedigreeFunction       0.972136      7.066681    0.367405   \n",
      "Age                          -21.381023    -57.143290    3.360330   \n",
      "Outcome                        0.568747      7.175671    1.100638   \n",
      "\n",
      "                          DiabetesPedigreeFunction         Age   Outcome  \n",
      "Pregnancies                              -0.037426   21.570620  0.356618  \n",
      "Glucose                                   1.454875   99.082805  7.115079  \n",
      "BloodPressure                             0.264638   54.523453  0.600697  \n",
      "SkinThickness                             0.972136  -21.381023  0.568747  \n",
      "Insulin                                   7.066681  -57.143290  7.175671  \n",
      "BMI                                       0.367405    3.360330  1.100638  \n",
      "DiabetesPedigreeFunction                  0.109779    0.130772  0.027472  \n",
      "Age                                       0.130772  138.303046  1.336953  \n",
      "Outcome                                   0.027472    1.336953  0.227483  \n"
     ]
    }
   ],
   "source": [
    "cov_matrix = df.cov()\n",
    "print(cov_matrix)"
   ]
  },
  {
   "cell_type": "code",
   "execution_count": 18,
   "id": "02904cdd-af8e-4ada-bdbc-1abc98fcb9d1",
   "metadata": {},
   "outputs": [
    {
     "name": "stdout",
     "output_type": "stream",
     "text": [
      "Index(['Pregnancies', 'Glucose', 'BloodPressure', 'SkinThickness', 'Insulin',\n",
      "       'BMI', 'DiabetesPedigreeFunction', 'Age', 'Outcome'],\n",
      "      dtype='object')\n"
     ]
    }
   ],
   "source": [
    "print(df.columns)"
   ]
  },
  {
   "cell_type": "code",
   "execution_count": 22,
   "id": "e9c22e92-8697-4b74-9afd-8b5910c8a769",
   "metadata": {},
   "outputs": [],
   "source": [
    "X = df.drop('Glucose', axis=1)\n",
    "Y = df['Glucose']"
   ]
  },
  {
   "cell_type": "code",
   "execution_count": 23,
   "id": "cbd575f1-5414-41c7-bc10-82cde9566b03",
   "metadata": {},
   "outputs": [
    {
     "data": {
      "text/html": [
       "<div>\n",
       "<style scoped>\n",
       "    .dataframe tbody tr th:only-of-type {\n",
       "        vertical-align: middle;\n",
       "    }\n",
       "\n",
       "    .dataframe tbody tr th {\n",
       "        vertical-align: top;\n",
       "    }\n",
       "\n",
       "    .dataframe thead th {\n",
       "        text-align: right;\n",
       "    }\n",
       "</style>\n",
       "<table border=\"1\" class=\"dataframe\">\n",
       "  <thead>\n",
       "    <tr style=\"text-align: right;\">\n",
       "      <th></th>\n",
       "      <th>Pregnancies</th>\n",
       "      <th>BloodPressure</th>\n",
       "      <th>SkinThickness</th>\n",
       "      <th>Insulin</th>\n",
       "      <th>BMI</th>\n",
       "      <th>DiabetesPedigreeFunction</th>\n",
       "      <th>Age</th>\n",
       "      <th>Outcome</th>\n",
       "    </tr>\n",
       "  </thead>\n",
       "  <tbody>\n",
       "    <tr>\n",
       "      <th>0</th>\n",
       "      <td>6</td>\n",
       "      <td>72</td>\n",
       "      <td>35</td>\n",
       "      <td>0</td>\n",
       "      <td>33.6</td>\n",
       "      <td>0.627</td>\n",
       "      <td>50</td>\n",
       "      <td>1</td>\n",
       "    </tr>\n",
       "    <tr>\n",
       "      <th>1</th>\n",
       "      <td>1</td>\n",
       "      <td>66</td>\n",
       "      <td>29</td>\n",
       "      <td>0</td>\n",
       "      <td>26.6</td>\n",
       "      <td>0.351</td>\n",
       "      <td>31</td>\n",
       "      <td>0</td>\n",
       "    </tr>\n",
       "    <tr>\n",
       "      <th>2</th>\n",
       "      <td>8</td>\n",
       "      <td>64</td>\n",
       "      <td>0</td>\n",
       "      <td>0</td>\n",
       "      <td>23.3</td>\n",
       "      <td>0.672</td>\n",
       "      <td>32</td>\n",
       "      <td>1</td>\n",
       "    </tr>\n",
       "    <tr>\n",
       "      <th>3</th>\n",
       "      <td>1</td>\n",
       "      <td>66</td>\n",
       "      <td>23</td>\n",
       "      <td>94</td>\n",
       "      <td>28.1</td>\n",
       "      <td>0.167</td>\n",
       "      <td>21</td>\n",
       "      <td>0</td>\n",
       "    </tr>\n",
       "    <tr>\n",
       "      <th>4</th>\n",
       "      <td>0</td>\n",
       "      <td>40</td>\n",
       "      <td>35</td>\n",
       "      <td>168</td>\n",
       "      <td>43.1</td>\n",
       "      <td>2.288</td>\n",
       "      <td>33</td>\n",
       "      <td>1</td>\n",
       "    </tr>\n",
       "    <tr>\n",
       "      <th>...</th>\n",
       "      <td>...</td>\n",
       "      <td>...</td>\n",
       "      <td>...</td>\n",
       "      <td>...</td>\n",
       "      <td>...</td>\n",
       "      <td>...</td>\n",
       "      <td>...</td>\n",
       "      <td>...</td>\n",
       "    </tr>\n",
       "    <tr>\n",
       "      <th>763</th>\n",
       "      <td>10</td>\n",
       "      <td>76</td>\n",
       "      <td>48</td>\n",
       "      <td>180</td>\n",
       "      <td>32.9</td>\n",
       "      <td>0.171</td>\n",
       "      <td>63</td>\n",
       "      <td>0</td>\n",
       "    </tr>\n",
       "    <tr>\n",
       "      <th>764</th>\n",
       "      <td>2</td>\n",
       "      <td>70</td>\n",
       "      <td>27</td>\n",
       "      <td>0</td>\n",
       "      <td>36.8</td>\n",
       "      <td>0.340</td>\n",
       "      <td>27</td>\n",
       "      <td>0</td>\n",
       "    </tr>\n",
       "    <tr>\n",
       "      <th>765</th>\n",
       "      <td>5</td>\n",
       "      <td>72</td>\n",
       "      <td>23</td>\n",
       "      <td>112</td>\n",
       "      <td>26.2</td>\n",
       "      <td>0.245</td>\n",
       "      <td>30</td>\n",
       "      <td>0</td>\n",
       "    </tr>\n",
       "    <tr>\n",
       "      <th>766</th>\n",
       "      <td>1</td>\n",
       "      <td>60</td>\n",
       "      <td>0</td>\n",
       "      <td>0</td>\n",
       "      <td>30.1</td>\n",
       "      <td>0.349</td>\n",
       "      <td>47</td>\n",
       "      <td>1</td>\n",
       "    </tr>\n",
       "    <tr>\n",
       "      <th>767</th>\n",
       "      <td>1</td>\n",
       "      <td>70</td>\n",
       "      <td>31</td>\n",
       "      <td>0</td>\n",
       "      <td>30.4</td>\n",
       "      <td>0.315</td>\n",
       "      <td>23</td>\n",
       "      <td>0</td>\n",
       "    </tr>\n",
       "  </tbody>\n",
       "</table>\n",
       "<p>768 rows × 8 columns</p>\n",
       "</div>"
      ],
      "text/plain": [
       "     Pregnancies  BloodPressure  SkinThickness  Insulin   BMI  \\\n",
       "0              6             72             35        0  33.6   \n",
       "1              1             66             29        0  26.6   \n",
       "2              8             64              0        0  23.3   \n",
       "3              1             66             23       94  28.1   \n",
       "4              0             40             35      168  43.1   \n",
       "..           ...            ...            ...      ...   ...   \n",
       "763           10             76             48      180  32.9   \n",
       "764            2             70             27        0  36.8   \n",
       "765            5             72             23      112  26.2   \n",
       "766            1             60              0        0  30.1   \n",
       "767            1             70             31        0  30.4   \n",
       "\n",
       "     DiabetesPedigreeFunction  Age  Outcome  \n",
       "0                       0.627   50        1  \n",
       "1                       0.351   31        0  \n",
       "2                       0.672   32        1  \n",
       "3                       0.167   21        0  \n",
       "4                       2.288   33        1  \n",
       "..                        ...  ...      ...  \n",
       "763                     0.171   63        0  \n",
       "764                     0.340   27        0  \n",
       "765                     0.245   30        0  \n",
       "766                     0.349   47        1  \n",
       "767                     0.315   23        0  \n",
       "\n",
       "[768 rows x 8 columns]"
      ]
     },
     "execution_count": 23,
     "metadata": {},
     "output_type": "execute_result"
    }
   ],
   "source": [
    "X"
   ]
  },
  {
   "cell_type": "code",
   "execution_count": 24,
   "id": "7e6f9472-cfec-48b6-959a-410cfce6dc3d",
   "metadata": {},
   "outputs": [
    {
     "data": {
      "text/plain": [
       "0      148\n",
       "1       85\n",
       "2      183\n",
       "3       89\n",
       "4      137\n",
       "      ... \n",
       "763    101\n",
       "764    122\n",
       "765    121\n",
       "766    126\n",
       "767     93\n",
       "Name: Glucose, Length: 768, dtype: int64"
      ]
     },
     "execution_count": 24,
     "metadata": {},
     "output_type": "execute_result"
    }
   ],
   "source": [
    "Y"
   ]
  },
  {
   "cell_type": "code",
   "execution_count": 26,
   "id": "7e2062ff-0d26-4ec2-a929-419624972a72",
   "metadata": {},
   "outputs": [],
   "source": [
    "from sklearn.model_selection import train_test_split\n",
    "X_train, X_test, Y_train, Y_test = train_test_split(X, Y, test_size=0.2, random_state=42)"
   ]
  },
  {
   "cell_type": "code",
   "execution_count": 27,
   "id": "0bd478df-e88f-4d17-a2c4-bda403eb1008",
   "metadata": {},
   "outputs": [
    {
     "data": {
      "text/html": [
       "<div>\n",
       "<style scoped>\n",
       "    .dataframe tbody tr th:only-of-type {\n",
       "        vertical-align: middle;\n",
       "    }\n",
       "\n",
       "    .dataframe tbody tr th {\n",
       "        vertical-align: top;\n",
       "    }\n",
       "\n",
       "    .dataframe thead th {\n",
       "        text-align: right;\n",
       "    }\n",
       "</style>\n",
       "<table border=\"1\" class=\"dataframe\">\n",
       "  <thead>\n",
       "    <tr style=\"text-align: right;\">\n",
       "      <th></th>\n",
       "      <th>Pregnancies</th>\n",
       "      <th>BloodPressure</th>\n",
       "      <th>SkinThickness</th>\n",
       "      <th>Insulin</th>\n",
       "      <th>BMI</th>\n",
       "      <th>DiabetesPedigreeFunction</th>\n",
       "      <th>Age</th>\n",
       "      <th>Outcome</th>\n",
       "    </tr>\n",
       "  </thead>\n",
       "  <tbody>\n",
       "    <tr>\n",
       "      <th>60</th>\n",
       "      <td>2</td>\n",
       "      <td>0</td>\n",
       "      <td>0</td>\n",
       "      <td>0</td>\n",
       "      <td>0.0</td>\n",
       "      <td>0.304</td>\n",
       "      <td>21</td>\n",
       "      <td>0</td>\n",
       "    </tr>\n",
       "    <tr>\n",
       "      <th>618</th>\n",
       "      <td>9</td>\n",
       "      <td>82</td>\n",
       "      <td>24</td>\n",
       "      <td>0</td>\n",
       "      <td>28.2</td>\n",
       "      <td>1.282</td>\n",
       "      <td>50</td>\n",
       "      <td>1</td>\n",
       "    </tr>\n",
       "    <tr>\n",
       "      <th>346</th>\n",
       "      <td>1</td>\n",
       "      <td>46</td>\n",
       "      <td>19</td>\n",
       "      <td>83</td>\n",
       "      <td>28.7</td>\n",
       "      <td>0.654</td>\n",
       "      <td>22</td>\n",
       "      <td>0</td>\n",
       "    </tr>\n",
       "    <tr>\n",
       "      <th>294</th>\n",
       "      <td>0</td>\n",
       "      <td>50</td>\n",
       "      <td>0</td>\n",
       "      <td>0</td>\n",
       "      <td>21.9</td>\n",
       "      <td>0.254</td>\n",
       "      <td>65</td>\n",
       "      <td>0</td>\n",
       "    </tr>\n",
       "    <tr>\n",
       "      <th>231</th>\n",
       "      <td>6</td>\n",
       "      <td>80</td>\n",
       "      <td>37</td>\n",
       "      <td>370</td>\n",
       "      <td>46.2</td>\n",
       "      <td>0.238</td>\n",
       "      <td>46</td>\n",
       "      <td>1</td>\n",
       "    </tr>\n",
       "    <tr>\n",
       "      <th>...</th>\n",
       "      <td>...</td>\n",
       "      <td>...</td>\n",
       "      <td>...</td>\n",
       "      <td>...</td>\n",
       "      <td>...</td>\n",
       "      <td>...</td>\n",
       "      <td>...</td>\n",
       "      <td>...</td>\n",
       "    </tr>\n",
       "    <tr>\n",
       "      <th>71</th>\n",
       "      <td>5</td>\n",
       "      <td>64</td>\n",
       "      <td>35</td>\n",
       "      <td>140</td>\n",
       "      <td>28.6</td>\n",
       "      <td>0.411</td>\n",
       "      <td>26</td>\n",
       "      <td>0</td>\n",
       "    </tr>\n",
       "    <tr>\n",
       "      <th>106</th>\n",
       "      <td>1</td>\n",
       "      <td>122</td>\n",
       "      <td>0</td>\n",
       "      <td>0</td>\n",
       "      <td>22.4</td>\n",
       "      <td>0.207</td>\n",
       "      <td>27</td>\n",
       "      <td>0</td>\n",
       "    </tr>\n",
       "    <tr>\n",
       "      <th>270</th>\n",
       "      <td>10</td>\n",
       "      <td>86</td>\n",
       "      <td>37</td>\n",
       "      <td>0</td>\n",
       "      <td>45.6</td>\n",
       "      <td>1.136</td>\n",
       "      <td>38</td>\n",
       "      <td>1</td>\n",
       "    </tr>\n",
       "    <tr>\n",
       "      <th>435</th>\n",
       "      <td>0</td>\n",
       "      <td>0</td>\n",
       "      <td>0</td>\n",
       "      <td>0</td>\n",
       "      <td>42.4</td>\n",
       "      <td>0.205</td>\n",
       "      <td>29</td>\n",
       "      <td>1</td>\n",
       "    </tr>\n",
       "    <tr>\n",
       "      <th>102</th>\n",
       "      <td>0</td>\n",
       "      <td>96</td>\n",
       "      <td>0</td>\n",
       "      <td>0</td>\n",
       "      <td>22.5</td>\n",
       "      <td>0.262</td>\n",
       "      <td>21</td>\n",
       "      <td>0</td>\n",
       "    </tr>\n",
       "  </tbody>\n",
       "</table>\n",
       "<p>614 rows × 8 columns</p>\n",
       "</div>"
      ],
      "text/plain": [
       "     Pregnancies  BloodPressure  SkinThickness  Insulin   BMI  \\\n",
       "60             2              0              0        0   0.0   \n",
       "618            9             82             24        0  28.2   \n",
       "346            1             46             19       83  28.7   \n",
       "294            0             50              0        0  21.9   \n",
       "231            6             80             37      370  46.2   \n",
       "..           ...            ...            ...      ...   ...   \n",
       "71             5             64             35      140  28.6   \n",
       "106            1            122              0        0  22.4   \n",
       "270           10             86             37        0  45.6   \n",
       "435            0              0              0        0  42.4   \n",
       "102            0             96              0        0  22.5   \n",
       "\n",
       "     DiabetesPedigreeFunction  Age  Outcome  \n",
       "60                      0.304   21        0  \n",
       "618                     1.282   50        1  \n",
       "346                     0.654   22        0  \n",
       "294                     0.254   65        0  \n",
       "231                     0.238   46        1  \n",
       "..                        ...  ...      ...  \n",
       "71                      0.411   26        0  \n",
       "106                     0.207   27        0  \n",
       "270                     1.136   38        1  \n",
       "435                     0.205   29        1  \n",
       "102                     0.262   21        0  \n",
       "\n",
       "[614 rows x 8 columns]"
      ]
     },
     "execution_count": 27,
     "metadata": {},
     "output_type": "execute_result"
    }
   ],
   "source": [
    "X_train"
   ]
  },
  {
   "cell_type": "code",
   "execution_count": 28,
   "id": "52865274-93c5-4d2c-88c5-c2a0fd2bef4d",
   "metadata": {},
   "outputs": [
    {
     "data": {
      "text/html": [
       "<div>\n",
       "<style scoped>\n",
       "    .dataframe tbody tr th:only-of-type {\n",
       "        vertical-align: middle;\n",
       "    }\n",
       "\n",
       "    .dataframe tbody tr th {\n",
       "        vertical-align: top;\n",
       "    }\n",
       "\n",
       "    .dataframe thead th {\n",
       "        text-align: right;\n",
       "    }\n",
       "</style>\n",
       "<table border=\"1\" class=\"dataframe\">\n",
       "  <thead>\n",
       "    <tr style=\"text-align: right;\">\n",
       "      <th></th>\n",
       "      <th>Pregnancies</th>\n",
       "      <th>BloodPressure</th>\n",
       "      <th>SkinThickness</th>\n",
       "      <th>Insulin</th>\n",
       "      <th>BMI</th>\n",
       "      <th>DiabetesPedigreeFunction</th>\n",
       "      <th>Age</th>\n",
       "      <th>Outcome</th>\n",
       "    </tr>\n",
       "  </thead>\n",
       "  <tbody>\n",
       "    <tr>\n",
       "      <th>668</th>\n",
       "      <td>6</td>\n",
       "      <td>58</td>\n",
       "      <td>33</td>\n",
       "      <td>190</td>\n",
       "      <td>34.0</td>\n",
       "      <td>0.430</td>\n",
       "      <td>43</td>\n",
       "      <td>0</td>\n",
       "    </tr>\n",
       "    <tr>\n",
       "      <th>324</th>\n",
       "      <td>2</td>\n",
       "      <td>75</td>\n",
       "      <td>32</td>\n",
       "      <td>0</td>\n",
       "      <td>35.7</td>\n",
       "      <td>0.148</td>\n",
       "      <td>21</td>\n",
       "      <td>0</td>\n",
       "    </tr>\n",
       "    <tr>\n",
       "      <th>624</th>\n",
       "      <td>2</td>\n",
       "      <td>64</td>\n",
       "      <td>0</td>\n",
       "      <td>0</td>\n",
       "      <td>30.8</td>\n",
       "      <td>0.158</td>\n",
       "      <td>21</td>\n",
       "      <td>0</td>\n",
       "    </tr>\n",
       "    <tr>\n",
       "      <th>690</th>\n",
       "      <td>8</td>\n",
       "      <td>80</td>\n",
       "      <td>0</td>\n",
       "      <td>0</td>\n",
       "      <td>24.6</td>\n",
       "      <td>0.856</td>\n",
       "      <td>34</td>\n",
       "      <td>0</td>\n",
       "    </tr>\n",
       "    <tr>\n",
       "      <th>473</th>\n",
       "      <td>7</td>\n",
       "      <td>90</td>\n",
       "      <td>0</td>\n",
       "      <td>0</td>\n",
       "      <td>29.9</td>\n",
       "      <td>0.210</td>\n",
       "      <td>50</td>\n",
       "      <td>0</td>\n",
       "    </tr>\n",
       "    <tr>\n",
       "      <th>...</th>\n",
       "      <td>...</td>\n",
       "      <td>...</td>\n",
       "      <td>...</td>\n",
       "      <td>...</td>\n",
       "      <td>...</td>\n",
       "      <td>...</td>\n",
       "      <td>...</td>\n",
       "      <td>...</td>\n",
       "    </tr>\n",
       "    <tr>\n",
       "      <th>355</th>\n",
       "      <td>9</td>\n",
       "      <td>88</td>\n",
       "      <td>0</td>\n",
       "      <td>0</td>\n",
       "      <td>30.4</td>\n",
       "      <td>0.302</td>\n",
       "      <td>49</td>\n",
       "      <td>1</td>\n",
       "    </tr>\n",
       "    <tr>\n",
       "      <th>534</th>\n",
       "      <td>1</td>\n",
       "      <td>56</td>\n",
       "      <td>30</td>\n",
       "      <td>56</td>\n",
       "      <td>33.3</td>\n",
       "      <td>1.251</td>\n",
       "      <td>24</td>\n",
       "      <td>0</td>\n",
       "    </tr>\n",
       "    <tr>\n",
       "      <th>344</th>\n",
       "      <td>8</td>\n",
       "      <td>72</td>\n",
       "      <td>0</td>\n",
       "      <td>0</td>\n",
       "      <td>36.8</td>\n",
       "      <td>0.485</td>\n",
       "      <td>57</td>\n",
       "      <td>0</td>\n",
       "    </tr>\n",
       "    <tr>\n",
       "      <th>296</th>\n",
       "      <td>2</td>\n",
       "      <td>70</td>\n",
       "      <td>38</td>\n",
       "      <td>360</td>\n",
       "      <td>28.0</td>\n",
       "      <td>0.337</td>\n",
       "      <td>29</td>\n",
       "      <td>1</td>\n",
       "    </tr>\n",
       "    <tr>\n",
       "      <th>462</th>\n",
       "      <td>8</td>\n",
       "      <td>70</td>\n",
       "      <td>40</td>\n",
       "      <td>49</td>\n",
       "      <td>35.3</td>\n",
       "      <td>0.705</td>\n",
       "      <td>39</td>\n",
       "      <td>0</td>\n",
       "    </tr>\n",
       "  </tbody>\n",
       "</table>\n",
       "<p>154 rows × 8 columns</p>\n",
       "</div>"
      ],
      "text/plain": [
       "     Pregnancies  BloodPressure  SkinThickness  Insulin   BMI  \\\n",
       "668            6             58             33      190  34.0   \n",
       "324            2             75             32        0  35.7   \n",
       "624            2             64              0        0  30.8   \n",
       "690            8             80              0        0  24.6   \n",
       "473            7             90              0        0  29.9   \n",
       "..           ...            ...            ...      ...   ...   \n",
       "355            9             88              0        0  30.4   \n",
       "534            1             56             30       56  33.3   \n",
       "344            8             72              0        0  36.8   \n",
       "296            2             70             38      360  28.0   \n",
       "462            8             70             40       49  35.3   \n",
       "\n",
       "     DiabetesPedigreeFunction  Age  Outcome  \n",
       "668                     0.430   43        0  \n",
       "324                     0.148   21        0  \n",
       "624                     0.158   21        0  \n",
       "690                     0.856   34        0  \n",
       "473                     0.210   50        0  \n",
       "..                        ...  ...      ...  \n",
       "355                     0.302   49        1  \n",
       "534                     1.251   24        0  \n",
       "344                     0.485   57        0  \n",
       "296                     0.337   29        1  \n",
       "462                     0.705   39        0  \n",
       "\n",
       "[154 rows x 8 columns]"
      ]
     },
     "execution_count": 28,
     "metadata": {},
     "output_type": "execute_result"
    }
   ],
   "source": [
    "X_test"
   ]
  },
  {
   "cell_type": "code",
   "execution_count": 29,
   "id": "b1a7a667-80e7-4227-93ef-dbc5266f6f20",
   "metadata": {},
   "outputs": [
    {
     "data": {
      "text/plain": [
       "60      84\n",
       "618    112\n",
       "346    139\n",
       "294    161\n",
       "231    134\n",
       "      ... \n",
       "71     139\n",
       "106     96\n",
       "270    101\n",
       "435    141\n",
       "102    125\n",
       "Name: Glucose, Length: 614, dtype: int64"
      ]
     },
     "execution_count": 29,
     "metadata": {},
     "output_type": "execute_result"
    }
   ],
   "source": [
    "Y_train "
   ]
  },
  {
   "cell_type": "code",
   "execution_count": 30,
   "id": "57bfb211-3782-4615-be4e-8e070c655c59",
   "metadata": {},
   "outputs": [
    {
     "data": {
      "text/plain": [
       "668     98\n",
       "324    112\n",
       "624    108\n",
       "690    107\n",
       "473    136\n",
       "      ... \n",
       "355    165\n",
       "534     77\n",
       "344     95\n",
       "296    146\n",
       "462     74\n",
       "Name: Glucose, Length: 154, dtype: int64"
      ]
     },
     "execution_count": 30,
     "metadata": {},
     "output_type": "execute_result"
    }
   ],
   "source": [
    "Y_test"
   ]
  },
  {
   "cell_type": "code",
   "execution_count": 34,
   "id": "cc175cd7-e105-4514-aac5-a6e6ec8df749",
   "metadata": {},
   "outputs": [],
   "source": [
    "from sklearn.preprocessing import StandardScaler\n",
    "scaler = StandardScaler()\n",
    "X_train = scaler.fit_transform(X_train)\n",
    "X_test = scaler.transform(X_test)"
   ]
  },
  {
   "cell_type": "code",
   "execution_count": 35,
   "id": "72bde1a2-3bc8-4f42-b627-ea4eeffa494f",
   "metadata": {},
   "outputs": [
    {
     "data": {
      "text/plain": [
       "array([[-0.52639686, -3.75268255, -1.32277365, ..., -0.49073479,\n",
       "        -1.03594038, -0.72881553],\n",
       "       [ 1.58804586,  0.68034485,  0.23350519, ...,  2.41502991,\n",
       "         1.48710085,  1.37208932],\n",
       "       [-0.82846011, -1.2658623 , -0.09071957, ...,  0.54916055,\n",
       "        -0.94893896, -0.72881553],\n",
       "       ...,\n",
       "       [ 1.8901091 ,  0.89659009,  1.07648956, ...,  1.981245  ,\n",
       "         0.44308379,  1.37208932],\n",
       "       [-1.13052335, -3.75268255, -1.32277365, ..., -0.78487662,\n",
       "        -0.33992901,  1.37208932],\n",
       "       [-1.13052335,  1.43720319, -1.32277365, ..., -0.61552223,\n",
       "        -1.03594038, -0.72881553]])"
      ]
     },
     "execution_count": 35,
     "metadata": {},
     "output_type": "execute_result"
    }
   ],
   "source": [
    "X_train"
   ]
  },
  {
   "cell_type": "code",
   "execution_count": 36,
   "id": "b3760eb1-6dbe-450e-9786-34b87b977b2e",
   "metadata": {},
   "outputs": [
    {
     "data": {
      "text/plain": [
       "array([[ 0.68185612, -0.61712658,  0.81710976, ..., -0.11637247,\n",
       "         0.87809089, -0.72881553],\n",
       "       [-0.52639686,  0.30191569,  0.7522648 , ..., -0.954231  ,\n",
       "        -1.03594038, -0.72881553],\n",
       "       [-0.52639686, -0.29275872, -1.32277365, ..., -0.9245197 ,\n",
       "        -1.03594038, -0.72881553],\n",
       "       ...,\n",
       "       [ 1.28598261,  0.13973176, -1.32277365, ...,  0.04703966,\n",
       "         2.0961108 , -0.72881553],\n",
       "       [-0.52639686,  0.03160914,  1.14133451, ..., -0.39268751,\n",
       "        -0.33992901,  1.37208932],\n",
       "       [ 1.28598261,  0.03160914,  1.27102442, ...,  0.70068816,\n",
       "         0.53008521, -0.72881553]])"
      ]
     },
     "execution_count": 36,
     "metadata": {},
     "output_type": "execute_result"
    }
   ],
   "source": [
    "X_test"
   ]
  },
  {
   "cell_type": "code",
   "execution_count": 37,
   "id": "e7fda1ce-1202-4f28-99cb-9bcaf420f1df",
   "metadata": {},
   "outputs": [],
   "source": [
    "from sklearn.linear_model import LogisticRegression"
   ]
  },
  {
   "cell_type": "code",
   "execution_count": 38,
   "id": "759a4010-85e5-45d8-b030-223e38e8fd19",
   "metadata": {},
   "outputs": [],
   "source": [
    "logreg = LogisticRegression() "
   ]
  },
  {
   "cell_type": "code",
   "execution_count": 39,
   "id": "39983647-6226-4a7f-9077-3ea55b564f5b",
   "metadata": {},
   "outputs": [
    {
     "data": {
      "text/html": [
       "<style>#sk-container-id-1 {color: black;background-color: white;}#sk-container-id-1 pre{padding: 0;}#sk-container-id-1 div.sk-toggleable {background-color: white;}#sk-container-id-1 label.sk-toggleable__label {cursor: pointer;display: block;width: 100%;margin-bottom: 0;padding: 0.3em;box-sizing: border-box;text-align: center;}#sk-container-id-1 label.sk-toggleable__label-arrow:before {content: \"▸\";float: left;margin-right: 0.25em;color: #696969;}#sk-container-id-1 label.sk-toggleable__label-arrow:hover:before {color: black;}#sk-container-id-1 div.sk-estimator:hover label.sk-toggleable__label-arrow:before {color: black;}#sk-container-id-1 div.sk-toggleable__content {max-height: 0;max-width: 0;overflow: hidden;text-align: left;background-color: #f0f8ff;}#sk-container-id-1 div.sk-toggleable__content pre {margin: 0.2em;color: black;border-radius: 0.25em;background-color: #f0f8ff;}#sk-container-id-1 input.sk-toggleable__control:checked~div.sk-toggleable__content {max-height: 200px;max-width: 100%;overflow: auto;}#sk-container-id-1 input.sk-toggleable__control:checked~label.sk-toggleable__label-arrow:before {content: \"▾\";}#sk-container-id-1 div.sk-estimator input.sk-toggleable__control:checked~label.sk-toggleable__label {background-color: #d4ebff;}#sk-container-id-1 div.sk-label input.sk-toggleable__control:checked~label.sk-toggleable__label {background-color: #d4ebff;}#sk-container-id-1 input.sk-hidden--visually {border: 0;clip: rect(1px 1px 1px 1px);clip: rect(1px, 1px, 1px, 1px);height: 1px;margin: -1px;overflow: hidden;padding: 0;position: absolute;width: 1px;}#sk-container-id-1 div.sk-estimator {font-family: monospace;background-color: #f0f8ff;border: 1px dotted black;border-radius: 0.25em;box-sizing: border-box;margin-bottom: 0.5em;}#sk-container-id-1 div.sk-estimator:hover {background-color: #d4ebff;}#sk-container-id-1 div.sk-parallel-item::after {content: \"\";width: 100%;border-bottom: 1px solid gray;flex-grow: 1;}#sk-container-id-1 div.sk-label:hover label.sk-toggleable__label {background-color: #d4ebff;}#sk-container-id-1 div.sk-serial::before {content: \"\";position: absolute;border-left: 1px solid gray;box-sizing: border-box;top: 0;bottom: 0;left: 50%;z-index: 0;}#sk-container-id-1 div.sk-serial {display: flex;flex-direction: column;align-items: center;background-color: white;padding-right: 0.2em;padding-left: 0.2em;position: relative;}#sk-container-id-1 div.sk-item {position: relative;z-index: 1;}#sk-container-id-1 div.sk-parallel {display: flex;align-items: stretch;justify-content: center;background-color: white;position: relative;}#sk-container-id-1 div.sk-item::before, #sk-container-id-1 div.sk-parallel-item::before {content: \"\";position: absolute;border-left: 1px solid gray;box-sizing: border-box;top: 0;bottom: 0;left: 50%;z-index: -1;}#sk-container-id-1 div.sk-parallel-item {display: flex;flex-direction: column;z-index: 1;position: relative;background-color: white;}#sk-container-id-1 div.sk-parallel-item:first-child::after {align-self: flex-end;width: 50%;}#sk-container-id-1 div.sk-parallel-item:last-child::after {align-self: flex-start;width: 50%;}#sk-container-id-1 div.sk-parallel-item:only-child::after {width: 0;}#sk-container-id-1 div.sk-dashed-wrapped {border: 1px dashed gray;margin: 0 0.4em 0.5em 0.4em;box-sizing: border-box;padding-bottom: 0.4em;background-color: white;}#sk-container-id-1 div.sk-label label {font-family: monospace;font-weight: bold;display: inline-block;line-height: 1.2em;}#sk-container-id-1 div.sk-label-container {text-align: center;}#sk-container-id-1 div.sk-container {/* jupyter's `normalize.less` sets `[hidden] { display: none; }` but bootstrap.min.css set `[hidden] { display: none !important; }` so we also need the `!important` here to be able to override the default hidden behavior on the sphinx rendered scikit-learn.org. See: https://github.com/scikit-learn/scikit-learn/issues/21755 */display: inline-block !important;position: relative;}#sk-container-id-1 div.sk-text-repr-fallback {display: none;}</style><div id=\"sk-container-id-1\" class=\"sk-top-container\"><div class=\"sk-text-repr-fallback\"><pre>LogisticRegression()</pre><b>In a Jupyter environment, please rerun this cell to show the HTML representation or trust the notebook. <br />On GitHub, the HTML representation is unable to render, please try loading this page with nbviewer.org.</b></div><div class=\"sk-container\" hidden><div class=\"sk-item\"><div class=\"sk-estimator sk-toggleable\"><input class=\"sk-toggleable__control sk-hidden--visually\" id=\"sk-estimator-id-1\" type=\"checkbox\" checked><label for=\"sk-estimator-id-1\" class=\"sk-toggleable__label sk-toggleable__label-arrow\">LogisticRegression</label><div class=\"sk-toggleable__content\"><pre>LogisticRegression()</pre></div></div></div></div></div>"
      ],
      "text/plain": [
       "LogisticRegression()"
      ]
     },
     "execution_count": 39,
     "metadata": {},
     "output_type": "execute_result"
    }
   ],
   "source": [
    "logreg.fit(X_train, Y_train)"
   ]
  },
  {
   "cell_type": "code",
   "execution_count": 43,
   "id": "97a8905b-77d9-457d-9e66-56df0e543594",
   "metadata": {},
   "outputs": [],
   "source": [
    "Y_pred_train = logreg.predict(X_train)\n",
    "Y_pred_test = logreg.predict(X_test)"
   ]
  },
  {
   "cell_type": "code",
   "execution_count": 44,
   "id": "6563c7f4-ff15-4306-8e66-565d6834acbd",
   "metadata": {},
   "outputs": [
    {
     "data": {
      "text/plain": [
       "array([ 99, 184,  99, 132, 181,  99, 141, 124, 119,  99, 100, 115,  99,\n",
       "       117, 114, 163, 114, 128, 125, 153, 165, 128,  99, 154, 125, 128,\n",
       "       136, 165, 106, 151, 128, 107, 107, 100, 125, 154, 109,  99, 145,\n",
       "       143, 105,  99, 101,  99, 128, 144, 106, 105, 145, 118, 122, 107,\n",
       "        99, 105, 144, 136, 100, 117,  99, 146, 112,  99, 165, 130, 117,\n",
       "       106, 112, 100,  99,  95,  99, 119, 141, 109, 128, 106, 105,  99,\n",
       "       124, 129, 106, 119, 118, 114, 128, 119,  99,  99, 125,  99,  99,\n",
       "       117, 165,  99, 114, 100, 144, 111, 125, 124, 140, 120, 114, 146,\n",
       "       114,  99, 127, 128, 106,  99, 114,  99, 154, 129, 111, 122, 119,\n",
       "       146, 109, 125, 123, 100,  99, 115, 106, 124, 124, 128, 156, 196,\n",
       "       125,  90, 125, 145,  99, 123, 111,  76, 171, 100, 128,  99, 117,\n",
       "       128, 138, 106,  90, 134, 155,  99, 108,  99, 111, 119,  99, 125,\n",
       "       111, 156, 146,  99, 105,  99, 129, 100,  99, 111, 161, 105, 119,\n",
       "        99, 125, 114, 129, 100, 165,  99,  95,  99,  99, 124, 109,  99,\n",
       "       196, 175,  99,  99, 129, 117,  88, 115, 145, 162, 111, 133,  90,\n",
       "       120, 102, 125, 197, 124, 127,  99, 106, 129, 100, 124, 137, 162,\n",
       "       125, 111,  99,  99,  99,  99, 123,  99, 115,  82, 173, 119, 112,\n",
       "       111, 165, 100, 129, 114,   0, 146, 180, 144, 111,  99, 146, 125,\n",
       "        99, 125, 146,  99, 107, 129, 106, 100, 120, 114, 106, 146, 119,\n",
       "       112,  99, 129,  99, 117, 123,   0, 128, 114, 128, 119, 107, 125,\n",
       "       119, 155, 120,  99, 130, 105, 107, 124, 100, 117,   0, 100, 184,\n",
       "       129,  99, 118,  99, 125, 163, 162, 100, 129, 137,  99, 128,  99,\n",
       "       136, 100, 128,  99,  86, 107,  99, 146, 125, 156, 125, 107, 120,\n",
       "       183, 100,  99, 125, 128, 100, 111, 125, 109, 126, 144, 114, 137,\n",
       "        99, 126,  99, 181, 180, 100, 197, 129, 128, 129, 156,  99,  99,\n",
       "       118, 117, 125, 173, 181, 105, 125, 125,  99, 120, 125, 117, 162,\n",
       "        99, 137, 111, 130, 127, 117, 136, 108, 128, 100, 100, 100, 173,\n",
       "        99, 129, 109, 155,  99, 130,  99, 120, 105, 100,  99, 129,  99,\n",
       "       165, 114, 168, 117, 100, 105, 155, 117, 148,  99,  99, 124,  99,\n",
       "       181, 114, 106, 123, 162,  99,  99, 181, 105, 106, 129,  95, 147,\n",
       "        99,  88, 100, 111, 126, 109, 126, 111, 125, 111, 111, 100, 106,\n",
       "       106, 129,   0,  99, 111, 124, 181, 132,  99, 125,  99, 130, 127,\n",
       "       109, 125,  99,  99,  90,  99, 106, 173, 130, 146, 112, 124,  99,\n",
       "        99, 115, 125, 128, 128,  67, 102, 153, 114,  90,  99,  99,  99,\n",
       "       102, 111, 120,  99,  99,  99, 125, 111, 126, 154, 155, 106, 117,\n",
       "        99,  99,  99, 130, 107,  99, 106, 111, 124, 144, 133, 100,  95,\n",
       "       107, 100, 113, 163,  99, 100, 187, 125, 114,  88, 144, 124,  99,\n",
       "        99, 127, 136,  99, 125, 187, 124,   0,  99, 100, 180, 125,  99,\n",
       "       181, 187,  99,  99, 125, 100, 111,  99, 107,  99,  99, 107, 107,\n",
       "       194, 147,  99, 130, 115, 125, 134, 146, 114,  95, 109, 128, 100,\n",
       "        99, 125, 134,  99,  99,  88, 128, 128, 109,  99, 125, 100, 111,\n",
       "        99, 175,  99, 119, 117, 123, 124, 114, 128, 100,  99, 100, 102,\n",
       "       136, 173,  99, 111, 106, 100, 144, 100, 125, 127, 115, 107, 123,\n",
       "        99, 189,  99, 111, 112, 102,  99, 129, 125, 180, 130, 105, 109,\n",
       "       107,  95,  99, 112, 122, 137, 180, 136, 146,  99, 162,  99, 106,\n",
       "        99, 145, 102, 125, 154,  99,  99, 105, 117, 128, 180, 124, 112,\n",
       "       144, 107, 100, 176, 120, 124,  99,  88, 145, 126, 100,  99, 117,\n",
       "       163, 141, 130], dtype=int64)"
      ]
     },
     "execution_count": 44,
     "metadata": {},
     "output_type": "execute_result"
    }
   ],
   "source": [
    "Y_pred_train"
   ]
  },
  {
   "cell_type": "code",
   "execution_count": 45,
   "id": "d25c45d1-9279-4dd9-bf63-c07a566f60ba",
   "metadata": {},
   "outputs": [
    {
     "data": {
      "text/plain": [
       "array([100, 111,  99, 130, 125, 120,  99, 119, 126, 132, 125, 105, 124,\n",
       "       120,  90, 109, 111,  99, 119, 129, 114, 105,  88,  99, 106, 112,\n",
       "        99, 125, 112, 120, 180, 145, 124, 119, 120, 100, 144, 128, 194,\n",
       "       141,  99, 137, 120, 164, 125, 173, 176, 111, 120, 165,  99, 136,\n",
       "       187, 130, 124,  99, 132,  99, 100, 125, 112, 111, 142, 197, 117,\n",
       "        79,  99, 147, 130, 155, 154, 111, 114, 107,  99, 105, 137, 100,\n",
       "        95, 117, 125, 109,  99, 105, 100, 129, 151, 128, 111,  99,  99,\n",
       "       117,  99, 145, 129,  81, 114, 100, 173, 106, 105, 107, 156, 123,\n",
       "       130, 105, 109, 128, 128, 100,  99, 130,  99, 112, 100,  87, 109,\n",
       "        99,  99,  99,  99, 100, 112, 118,  99, 144, 109, 168, 138, 126,\n",
       "       130, 187,  82, 124, 173,  99, 125, 133, 145,  99,  99,  99, 125,\n",
       "       165, 107, 100, 118,  99, 105, 125, 100, 120, 124, 100], dtype=int64)"
      ]
     },
     "execution_count": 45,
     "metadata": {},
     "output_type": "execute_result"
    }
   ],
   "source": [
    "Y_pred_test"
   ]
  },
  {
   "cell_type": "code",
   "execution_count": 48,
   "id": "1efd42cd-ddf2-4223-b6c8-b75e21b7c015",
   "metadata": {},
   "outputs": [],
   "source": [
    "from sklearn.metrics import precision_score, confusion_matrix, accuracy_score, recall_score\n",
    "cm = confusion_matrix(Y_test, Y_pred_test)"
   ]
  },
  {
   "cell_type": "code",
   "execution_count": 49,
   "id": "5b491c2f-cbac-4ae4-83a1-7049e4a6b072",
   "metadata": {},
   "outputs": [
    {
     "name": "stdout",
     "output_type": "stream",
     "text": [
      "Cofusion Matrix:\n",
      "[[0 0 0 ... 0 0 0]\n",
      " [0 0 0 ... 0 0 0]\n",
      " [0 0 0 ... 0 0 0]\n",
      " ...\n",
      " [0 0 0 ... 0 0 0]\n",
      " [0 0 0 ... 0 0 0]\n",
      " [0 0 0 ... 0 0 0]]\n"
     ]
    }
   ],
   "source": [
    "print(\"Cofusion Matrix:\")\n",
    "print(cm)"
   ]
  },
  {
   "cell_type": "code",
   "execution_count": 50,
   "id": "2b24a206-e4d9-4898-968f-3e8321a757dd",
   "metadata": {},
   "outputs": [
    {
     "name": "stdout",
     "output_type": "stream",
     "text": [
      "accuracy: 0.006493506493506494\n"
     ]
    }
   ],
   "source": [
    "accuracy = accuracy_score(Y_test, Y_pred_test)\n",
    "print(\"accuracy:\", accuracy)"
   ]
  },
  {
   "cell_type": "code",
   "execution_count": 54,
   "id": "1d195d2d-90a7-4bf8-b81b-d46685206f49",
   "metadata": {},
   "outputs": [
    {
     "name": "stdout",
     "output_type": "stream",
     "text": [
      "precision: 0.000825082508250825\n"
     ]
    },
    {
     "name": "stderr",
     "output_type": "stream",
     "text": [
      "C:\\Users\\SSOS19\\anaconda3\\Lib\\site-packages\\sklearn\\metrics\\_classification.py:1344: UndefinedMetricWarning: Precision is ill-defined and being set to 0.0 in labels with no predicted samples. Use `zero_division` parameter to control this behavior.\n",
      "  _warn_prf(average, modifier, msg_start, len(result))\n"
     ]
    }
   ],
   "source": [
    "precision = precision_score(Y_test, Y_pred_test, average='macro')\n",
    "print(\"precision:\", precision)"
   ]
  },
  {
   "cell_type": "code",
   "execution_count": 55,
   "id": "1fdf1f93-f1ee-457b-91be-41ee2bd19870",
   "metadata": {},
   "outputs": [
    {
     "name": "stdout",
     "output_type": "stream",
     "text": [
      "precision: 0.0010822510822510823\n"
     ]
    },
    {
     "name": "stderr",
     "output_type": "stream",
     "text": [
      "C:\\Users\\SSOS19\\anaconda3\\Lib\\site-packages\\sklearn\\metrics\\_classification.py:1344: UndefinedMetricWarning: Precision is ill-defined and being set to 0.0 in labels with no predicted samples. Use `zero_division` parameter to control this behavior.\n",
      "  _warn_prf(average, modifier, msg_start, len(result))\n"
     ]
    }
   ],
   "source": [
    "precision = precision_score(Y_test, Y_pred_test, average='weighted')\n",
    "print(\"precision:\", precision)"
   ]
  },
  {
   "cell_type": "code",
   "execution_count": 58,
   "id": "23993735-107e-4a99-98ed-1ea6f62db69a",
   "metadata": {},
   "outputs": [
    {
     "name": "stdout",
     "output_type": "stream",
     "text": [
      "recall: 0.0049504950495049506\n"
     ]
    },
    {
     "name": "stderr",
     "output_type": "stream",
     "text": [
      "C:\\Users\\SSOS19\\anaconda3\\Lib\\site-packages\\sklearn\\metrics\\_classification.py:1344: UndefinedMetricWarning: Recall is ill-defined and being set to 0.0 in labels with no true samples. Use `zero_division` parameter to control this behavior.\n",
      "  _warn_prf(average, modifier, msg_start, len(result))\n"
     ]
    }
   ],
   "source": [
    "recall = recall_score(Y_test, Y_pred_test, average='macro')\n",
    "print(\"recall:\",recall)"
   ]
  },
  {
   "cell_type": "code",
   "execution_count": null,
   "id": "d60f9d63-4c78-4b4e-8eeb-52136473d27d",
   "metadata": {},
   "outputs": [],
   "source": [
    "NAME : SURAJ KANADE\n",
    "ROLL NO: 13215"
   ]
  }
 ],
 "metadata": {
  "kernelspec": {
   "display_name": "Python 3 (ipykernel)",
   "language": "python",
   "name": "python3"
  },
  "language_info": {
   "codemirror_mode": {
    "name": "ipython",
    "version": 3
   },
   "file_extension": ".py",
   "mimetype": "text/x-python",
   "name": "python",
   "nbconvert_exporter": "python",
   "pygments_lexer": "ipython3",
   "version": "3.11.7"
  }
 },
 "nbformat": 4,
 "nbformat_minor": 5
}
